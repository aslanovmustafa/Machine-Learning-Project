{
 "cells": [
  {
   "cell_type": "code",
   "execution_count": 1,
   "metadata": {},
   "outputs": [],
   "source": [
    "import re\n",
    "import pandas as pd\n",
    "from openpyxl import Workbook\n",
    "import csv\n",
    "from csv import reader"
   ]
  },
  {
   "cell_type": "code",
   "execution_count": 89,
   "metadata": {},
   "outputs": [],
   "source": [
    "data = pd.read_csv('merged_data.csv', encoding='utf8')"
   ]
  },
  {
   "cell_type": "code",
   "execution_count": 90,
   "metadata": {},
   "outputs": [],
   "source": [
    "data_new = []\n",
    "emoji_pattern = re.compile(\"[\"\n",
    "                           u\"\\U0001F600-\\U0001F64F\"  # emoticons\n",
    "                           u\"\\U0001F300-\\U0001FFFF\"  # symbols & pictographs\n",
    "                           u\"\\U0001F680-\\U0001F6FF\"  # transport & map symbols\n",
    "                           u\"\\U0001F1E0-\\U0001F1FF\"  # flags (iOS)\n",
    "                           u\"\\U00002702-\\U000027B0\"\n",
    "                           u\"\\U000024C2-\\U0001F251\"\n",
    "                           \"]+\", flags=re.UNICODE)\n",
    "\n",
    "for row in data.Text:\n",
    "    row = re.sub(r'[@]\\w+', '', row)\n",
    "    row = re.sub(r'\\u200d', '', row)\n",
    "    row = re.sub(r'RT :', '', row)\n",
    "    row = re.sub(r'http[s]?:\\/\\/.*[\\r\\n]*', '', row)\n",
    "    row = emoji_pattern.sub(r'', row)\n",
    "    row = re.sub(r'\\&amp;', ' ', row)\n",
    "    row = re.sub(r'\\&gt;', ' ', row)\n",
    "    row = re.sub(r'&lt;[3]+', ' ', row)\n",
    "    row = re.sub(r'[+\\-”“\"#@()]+', '', row)\n",
    "    row = re.sub(r'\\.', '. ', row)\n",
    "    row = re.sub(r':[Dd]', ' :D', row)\n",
    "    row = re.sub(r'[0-9]+[ ]', '', row)\n",
    "    row = re.sub(r'FOTO|VİDEO', '', row)\n",
    "    row = re.sub(r'[ ]+', ' ', row)\n",
    "    data_new.append(row)"
   ]
  },
  {
   "cell_type": "code",
   "execution_count": 88,
   "metadata": {},
   "outputs": [
    {
     "data": {
      "text/plain": [
       "'Baki :D'"
      ]
     },
     "execution_count": 88,
     "metadata": {},
     "output_type": "execute_result"
    }
   ],
   "source": [
    "row = \"Baki:D\"\n",
    "row = re.sub(r':[Dd]', ' :D', row)\n",
    "row"
   ]
  },
  {
   "cell_type": "code",
   "execution_count": 91,
   "metadata": {},
   "outputs": [],
   "source": [
    "data_new = pd.DataFrame(data=data_new)"
   ]
  },
  {
   "cell_type": "code",
   "execution_count": 68,
   "metadata": {},
   "outputs": [
    {
     "data": {
      "text/html": [
       "<div>\n",
       "<style scoped>\n",
       "    .dataframe tbody tr th:only-of-type {\n",
       "        vertical-align: middle;\n",
       "    }\n",
       "\n",
       "    .dataframe tbody tr th {\n",
       "        vertical-align: top;\n",
       "    }\n",
       "\n",
       "    .dataframe thead th {\n",
       "        text-align: right;\n",
       "    }\n",
       "</style>\n",
       "<table border=\"1\" class=\"dataframe\">\n",
       "  <thead>\n",
       "    <tr style=\"text-align: right;\">\n",
       "      <th></th>\n",
       "      <th>0</th>\n",
       "    </tr>\n",
       "  </thead>\n",
       "  <tbody>\n",
       "    <tr>\n",
       "      <th>0</th>\n",
       "      <td>Yo biz qoymuşuğğ bunu. İnanmıram vererler lox...</td>\n",
       "    </tr>\n",
       "    <tr>\n",
       "      <th>1</th>\n",
       "      <td>Leo Messi'nin mükəmməl cərimə zərbəsinin Camp ...</td>\n",
       "    </tr>\n",
       "    <tr>\n",
       "      <th>2</th>\n",
       "      <td>babat soxariq burdan bu qiymete bu yasda</td>\n",
       "    </tr>\n",
       "    <tr>\n",
       "      <th>3</th>\n",
       "      <td>Qardaşımın məktəbdə yaşadığı günü mənim smestr...</td>\n",
       "    </tr>\n",
       "    <tr>\n",
       "      <th>4</th>\n",
       "      <td>Axirincini gozel dedin</td>\n",
       "    </tr>\n",
       "  </tbody>\n",
       "</table>\n",
       "</div>"
      ],
      "text/plain": [
       "                                                   0\n",
       "0   Yo biz qoymuşuğğ bunu. İnanmıram vererler lox...\n",
       "1  Leo Messi'nin mükəmməl cərimə zərbəsinin Camp ...\n",
       "2           babat soxariq burdan bu qiymete bu yasda\n",
       "3  Qardaşımın məktəbdə yaşadığı günü mənim smestr...\n",
       "4                             Axirincini gozel dedin"
      ]
     },
     "execution_count": 68,
     "metadata": {},
     "output_type": "execute_result"
    }
   ],
   "source": [
    "data_new.head()"
   ]
  },
  {
   "cell_type": "code",
   "execution_count": 92,
   "metadata": {},
   "outputs": [],
   "source": [
    "data.Text = data_new"
   ]
  },
  {
   "cell_type": "code",
   "execution_count": 93,
   "metadata": {},
   "outputs": [
    {
     "data": {
      "text/plain": [
       "0         Yo biz qoymuşuğğ bunu. İnanmıram vererler lox...\n",
       "1        Leo Messi'nin mükəmməl cərimə zərbəsinin Camp ...\n",
       "2                 babat soxariq burdan bu qiymete bu yasda\n",
       "3        Qardaşımın məktəbdə yaşadığı günü mənim smestr...\n",
       "4                                   Axirincini gozel dedin\n",
       "                               ...                        \n",
       "13204     Bakıda autizm sindromlu insanların işləyəcəyi...\n",
       "13205                                                 Olar\n",
       "13206    Hamı deyir olduğum kimiyəm. Bəs bu qədər artis...\n",
       "13207                                 Həyata qarşl duruşum\n",
       "13208     Nicat səni ilmə ilmə eliyərəm,üstünnən tankna...\n",
       "Name: Text, Length: 13209, dtype: object"
      ]
     },
     "execution_count": 93,
     "metadata": {},
     "output_type": "execute_result"
    }
   ],
   "source": [
    "data.Text"
   ]
  },
  {
   "cell_type": "code",
   "execution_count": 94,
   "metadata": {},
   "outputs": [],
   "source": [
    "data = data.reset_index(drop=True)\n",
    "data = data.drop(data.columns[data.columns.str.contains('unnamed',case = False)], axis=1)"
   ]
  },
  {
   "cell_type": "code",
   "execution_count": 95,
   "metadata": {},
   "outputs": [],
   "source": [
    "data.to_csv(\"new_merged_data_2.csv\", encoding='utf8')"
   ]
  },
  {
   "cell_type": "code",
   "execution_count": 96,
   "metadata": {},
   "outputs": [
    {
     "data": {
      "text/html": [
       "<div>\n",
       "<style scoped>\n",
       "    .dataframe tbody tr th:only-of-type {\n",
       "        vertical-align: middle;\n",
       "    }\n",
       "\n",
       "    .dataframe tbody tr th {\n",
       "        vertical-align: top;\n",
       "    }\n",
       "\n",
       "    .dataframe thead th {\n",
       "        text-align: right;\n",
       "    }\n",
       "</style>\n",
       "<table border=\"1\" class=\"dataframe\">\n",
       "  <thead>\n",
       "    <tr style=\"text-align: right;\">\n",
       "      <th></th>\n",
       "      <th>Text</th>\n",
       "      <th>Sentiment</th>\n",
       "    </tr>\n",
       "  </thead>\n",
       "  <tbody>\n",
       "    <tr>\n",
       "      <th>0</th>\n",
       "      <td>Yo biz qoymuşuğğ bunu. İnanmıram vererler lox...</td>\n",
       "      <td>neutral</td>\n",
       "    </tr>\n",
       "    <tr>\n",
       "      <th>1</th>\n",
       "      <td>Leo Messi'nin mükəmməl cərimə zərbəsinin Camp ...</td>\n",
       "      <td>neutral</td>\n",
       "    </tr>\n",
       "    <tr>\n",
       "      <th>2</th>\n",
       "      <td>babat soxariq burdan bu qiymete bu yasda</td>\n",
       "      <td>neutral</td>\n",
       "    </tr>\n",
       "    <tr>\n",
       "      <th>3</th>\n",
       "      <td>Qardaşımın məktəbdə yaşadığı günü mənim smestr...</td>\n",
       "      <td>positive</td>\n",
       "    </tr>\n",
       "    <tr>\n",
       "      <th>4</th>\n",
       "      <td>Axirincini gozel dedin</td>\n",
       "      <td>positive</td>\n",
       "    </tr>\n",
       "  </tbody>\n",
       "</table>\n",
       "</div>"
      ],
      "text/plain": [
       "                                                Text Sentiment\n",
       "0   Yo biz qoymuşuğğ bunu. İnanmıram vererler lox...   neutral\n",
       "1  Leo Messi'nin mükəmməl cərimə zərbəsinin Camp ...   neutral\n",
       "2           babat soxariq burdan bu qiymete bu yasda   neutral\n",
       "3  Qardaşımın məktəbdə yaşadığı günü mənim smestr...  positive\n",
       "4                             Axirincini gozel dedin  positive"
      ]
     },
     "execution_count": 96,
     "metadata": {},
     "output_type": "execute_result"
    }
   ],
   "source": [
    "data.head()"
   ]
  },
  {
   "cell_type": "code",
   "execution_count": null,
   "metadata": {},
   "outputs": [],
   "source": []
  }
 ],
 "metadata": {
  "kernelspec": {
   "display_name": "Python 3.8.2 64-bit",
   "language": "python",
   "name": "python38264bit891a00f9ea8f4bd9b6bbe8ee87d2801e"
  },
  "language_info": {
   "codemirror_mode": {
    "name": "ipython",
    "version": 3
   },
   "file_extension": ".py",
   "mimetype": "text/x-python",
   "name": "python",
   "nbconvert_exporter": "python",
   "pygments_lexer": "ipython3",
   "version": "3.8.2"
  }
 },
 "nbformat": 4,
 "nbformat_minor": 4
}
