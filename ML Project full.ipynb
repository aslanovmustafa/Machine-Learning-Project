{
 "cells": [
  {
   "cell_type": "markdown",
   "metadata": {},
   "source": [
    "0. train based on language first then remove turkish tweets (cleaning stage)\n",
    "1. replace ne, mu to normal words\n",
    "2. Combine csv files\n",
    "3. train based on sentiment (first 50%)\n",
    "4. test second 50%\n",
    "5. Logistic Regression, SVM, DTS, MLP (NB).\n",
    "6. graphical representation\n",
    "7. random output\n",
    "8. own file"
   ]
  },
  {
   "cell_type": "code",
   "execution_count": 1,
   "metadata": {},
   "outputs": [],
   "source": [
    "import pandas as pd\n",
    "from sklearn.feature_extraction.text import CountVectorizer\n",
    "from sklearn.model_selection import train_test_split\n",
    "from sklearn.naive_bayes import MultinomialNB\n",
    "from sklearn.metrics import classification_report\n",
    "from sklearn import metrics\n",
    "from sklearn.metrics import confusion_matrix\n",
    "import numpy as np\n",
    "from sklearn.svm import SVC\n",
    "from sklearn.neural_network import MLPClassifier\n",
    "import joblib\n",
    "from matplotlib import image\n",
    "from matplotlib import pyplot\n",
    "from PIL import Image\n",
    "from collections import Counter"
   ]
  },
  {
   "cell_type": "code",
   "execution_count": 55,
   "metadata": {},
   "outputs": [],
   "source": [
    "data = pd.read_excel(\"processed_Altun.xlsx\", encoding='utf-8')"
   ]
  },
  {
   "cell_type": "code",
   "execution_count": 56,
   "metadata": {},
   "outputs": [
    {
     "data": {
      "text/html": [
       "<div>\n",
       "<style scoped>\n",
       "    .dataframe tbody tr th:only-of-type {\n",
       "        vertical-align: middle;\n",
       "    }\n",
       "\n",
       "    .dataframe tbody tr th {\n",
       "        vertical-align: top;\n",
       "    }\n",
       "\n",
       "    .dataframe thead th {\n",
       "        text-align: right;\n",
       "    }\n",
       "</style>\n",
       "<table border=\"1\" class=\"dataframe\">\n",
       "  <thead>\n",
       "    <tr style=\"text-align: right;\">\n",
       "      <th></th>\n",
       "      <th>Full Text</th>\n",
       "      <th>Clean Text</th>\n",
       "      <th>Cost</th>\n",
       "      <th>Sentiment</th>\n",
       "      <th>Main Language</th>\n",
       "      <th>User DTO</th>\n",
       "      <th>User Name</th>\n",
       "      <th>User Location</th>\n",
       "      <th>Language</th>\n",
       "      <th>Hashtags</th>\n",
       "      <th>Tweet Local Creation Date</th>\n",
       "      <th>Created At</th>\n",
       "    </tr>\n",
       "  </thead>\n",
       "  <tbody>\n",
       "    <tr>\n",
       "      <th>0</th>\n",
       "      <td>@nemosh_m Dua Lipa Bakini unutdu bizimkiler on...</td>\n",
       "      <td>Dua Lipa Bakini unutdu bizimkiler onun videol...</td>\n",
       "      <td>NaN</td>\n",
       "      <td>mn</td>\n",
       "      <td>A</td>\n",
       "      <td>EFidaska</td>\n",
       "      <td>Asadzade 💎</td>\n",
       "      <td>azerbaijan/baku</td>\n",
       "      <td>Turkish</td>\n",
       "      <td>NaN</td>\n",
       "      <td>2018-05-02 22:00:34.211</td>\n",
       "      <td>2018-05-01 04:16:47</td>\n",
       "    </tr>\n",
       "    <tr>\n",
       "      <th>1</th>\n",
       "      <td>Adam bir nəfəri stalklıyar)</td>\n",
       "      <td>Adam bir nəfəri stalklıyar)</td>\n",
       "      <td>NaN</td>\n",
       "      <td>mn</td>\n",
       "      <td>a</td>\n",
       "      <td>Gicbesername</td>\n",
       "      <td>Gicbəsər 💥💣</td>\n",
       "      <td>Bakı</td>\n",
       "      <td>Turkish</td>\n",
       "      <td>NaN</td>\n",
       "      <td>2018-05-02 22:00:34.211</td>\n",
       "      <td>2018-05-01 04:21:05</td>\n",
       "    </tr>\n",
       "    <tr>\n",
       "      <th>2</th>\n",
       "      <td>məni stalklıyan yoxdu</td>\n",
       "      <td>məni stalklıyan yoxdu</td>\n",
       "      <td>NaN</td>\n",
       "      <td>n</td>\n",
       "      <td>a</td>\n",
       "      <td>Gicbesername</td>\n",
       "      <td>Gicbəsər 💥💣</td>\n",
       "      <td>Bakı</td>\n",
       "      <td>Turkish</td>\n",
       "      <td>NaN</td>\n",
       "      <td>2018-05-02 22:00:34.211</td>\n",
       "      <td>2018-05-01 04:22:49</td>\n",
       "    </tr>\n",
       "    <tr>\n",
       "      <th>3</th>\n",
       "      <td>RT @Gicbesername: nəysə yatıram sabah çoxlu me...</td>\n",
       "      <td>nəysə yatıram sabah çoxlu mesaj gələcəy</td>\n",
       "      <td>NaN</td>\n",
       "      <td>n</td>\n",
       "      <td>a</td>\n",
       "      <td>Gicbesername</td>\n",
       "      <td>Gicbəsər 💥💣</td>\n",
       "      <td>Bakı</td>\n",
       "      <td>Turkish</td>\n",
       "      <td>NaN</td>\n",
       "      <td>2018-05-02 22:00:34.211</td>\n",
       "      <td>2018-05-01 04:23:36</td>\n",
       "    </tr>\n",
       "    <tr>\n",
       "      <th>4</th>\n",
       "      <td>@qubiyevaego_GS Mən də dərdimi sənə danışım. D...</td>\n",
       "      <td>Mən də dərdimi sənə danışım. Dinləyərsən?Mənd...</td>\n",
       "      <td>NaN</td>\n",
       "      <td>ms</td>\n",
       "      <td>a</td>\n",
       "      <td>Parvizisa</td>\n",
       "      <td>Parvizisa</td>\n",
       "      <td>Baku</td>\n",
       "      <td>Turkish</td>\n",
       "      <td>NaN</td>\n",
       "      <td>2018-05-02 22:00:34.211</td>\n",
       "      <td>2018-05-01 04:50:03</td>\n",
       "    </tr>\n",
       "  </tbody>\n",
       "</table>\n",
       "</div>"
      ],
      "text/plain": [
       "                                           Full Text  \\\n",
       "0  @nemosh_m Dua Lipa Bakini unutdu bizimkiler on...   \n",
       "1                        Adam bir nəfəri stalklıyar)   \n",
       "2                              məni stalklıyan yoxdu   \n",
       "3  RT @Gicbesername: nəysə yatıram sabah çoxlu me...   \n",
       "4  @qubiyevaego_GS Mən də dərdimi sənə danışım. D...   \n",
       "\n",
       "                                          Clean Text  Cost Sentiment  \\\n",
       "0   Dua Lipa Bakini unutdu bizimkiler onun videol...   NaN        mn   \n",
       "1                        Adam bir nəfəri stalklıyar)   NaN        mn   \n",
       "2                              məni stalklıyan yoxdu   NaN         n   \n",
       "3            nəysə yatıram sabah çoxlu mesaj gələcəy   NaN         n   \n",
       "4   Mən də dərdimi sənə danışım. Dinləyərsən?Mənd...   NaN        ms   \n",
       "\n",
       "  Main Language      User DTO    User Name    User Location Language Hashtags  \\\n",
       "0             A      EFidaska   Asadzade 💎  azerbaijan/baku  Turkish      NaN   \n",
       "1             a  Gicbesername  Gicbəsər 💥💣             Bakı  Turkish      NaN   \n",
       "2             a  Gicbesername  Gicbəsər 💥💣             Bakı  Turkish      NaN   \n",
       "3             a  Gicbesername  Gicbəsər 💥💣             Bakı  Turkish      NaN   \n",
       "4             a     Parvizisa    Parvizisa             Baku  Turkish      NaN   \n",
       "\n",
       "  Tweet Local Creation Date          Created At  \n",
       "0   2018-05-02 22:00:34.211 2018-05-01 04:16:47  \n",
       "1   2018-05-02 22:00:34.211 2018-05-01 04:21:05  \n",
       "2   2018-05-02 22:00:34.211 2018-05-01 04:22:49  \n",
       "3   2018-05-02 22:00:34.211 2018-05-01 04:23:36  \n",
       "4   2018-05-02 22:00:34.211 2018-05-01 04:50:03  "
      ]
     },
     "execution_count": 56,
     "metadata": {},
     "output_type": "execute_result"
    }
   ],
   "source": [
    "data.head()"
   ]
  },
  {
   "cell_type": "code",
   "execution_count": 62,
   "metadata": {},
   "outputs": [],
   "source": [
    "text = data['Full Text']\n",
    "sentiment = data['Sentiment']\n",
    "language = data['Language.1']"
   ]
  },
  {
   "cell_type": "code",
   "execution_count": 63,
   "metadata": {},
   "outputs": [],
   "source": [
    "new_data = {'Full Text':text, 'Sentiment': sentiment, 'Language.1': language}"
   ]
  },
  {
   "cell_type": "code",
   "execution_count": 64,
   "metadata": {},
   "outputs": [],
   "source": [
    "new_data=pd.DataFrame(data=new_data)"
   ]
  },
  {
   "cell_type": "code",
   "execution_count": 65,
   "metadata": {},
   "outputs": [
    {
     "data": {
      "text/html": [
       "<div>\n",
       "<style scoped>\n",
       "    .dataframe tbody tr th:only-of-type {\n",
       "        vertical-align: middle;\n",
       "    }\n",
       "\n",
       "    .dataframe tbody tr th {\n",
       "        vertical-align: top;\n",
       "    }\n",
       "\n",
       "    .dataframe thead th {\n",
       "        text-align: right;\n",
       "    }\n",
       "</style>\n",
       "<table border=\"1\" class=\"dataframe\">\n",
       "  <thead>\n",
       "    <tr style=\"text-align: right;\">\n",
       "      <th></th>\n",
       "      <th>Text</th>\n",
       "      <th>Sentiment</th>\n",
       "      <th>Language</th>\n",
       "    </tr>\n",
       "  </thead>\n",
       "  <tbody>\n",
       "    <tr>\n",
       "      <th>0</th>\n",
       "      <td>Dua Lipa Bakini unutdu bizimkiler onun videol...</td>\n",
       "      <td>mn</td>\n",
       "      <td>A</td>\n",
       "    </tr>\n",
       "    <tr>\n",
       "      <th>1</th>\n",
       "      <td>Adam bir nəfəri stalklıyar)</td>\n",
       "      <td>mn</td>\n",
       "      <td>a</td>\n",
       "    </tr>\n",
       "    <tr>\n",
       "      <th>2</th>\n",
       "      <td>məni stalklıyan yoxdu</td>\n",
       "      <td>n</td>\n",
       "      <td>a</td>\n",
       "    </tr>\n",
       "    <tr>\n",
       "      <th>3</th>\n",
       "      <td>nəysə yatıram sabah çoxlu mesaj gələcəy</td>\n",
       "      <td>n</td>\n",
       "      <td>a</td>\n",
       "    </tr>\n",
       "    <tr>\n",
       "      <th>4</th>\n",
       "      <td>Mən də dərdimi sənə danışım. Dinləyərsən?Mənd...</td>\n",
       "      <td>ms</td>\n",
       "      <td>a</td>\n",
       "    </tr>\n",
       "  </tbody>\n",
       "</table>\n",
       "</div>"
      ],
      "text/plain": [
       "                                                Text Sentiment Language\n",
       "0   Dua Lipa Bakini unutdu bizimkiler onun videol...        mn        A\n",
       "1                        Adam bir nəfəri stalklıyar)        mn        a\n",
       "2                              məni stalklıyan yoxdu         n        a\n",
       "3            nəysə yatıram sabah çoxlu mesaj gələcəy         n        a\n",
       "4   Mən də dərdimi sənə danışım. Dinləyərsən?Mənd...        ms        a"
      ]
     },
     "execution_count": 65,
     "metadata": {},
     "output_type": "execute_result"
    }
   ],
   "source": [
    "new_data.head()"
   ]
  },
  {
   "cell_type": "code",
   "execution_count": 67,
   "metadata": {},
   "outputs": [],
   "source": [
    "x = new_data['Text']\n",
    "y = new_data['Language']"
   ]
  },
  {
   "cell_type": "code",
   "execution_count": 68,
   "metadata": {},
   "outputs": [],
   "source": [
    "x_train_lan = x.iloc[:4999]\n",
    "x_test_lan = x.iloc[4999:]\n",
    "y_train_lan = y.iloc[:4999]\n",
    "y_test_lan = y.iloc[4999:]"
   ]
  },
  {
   "cell_type": "markdown",
   "metadata": {},
   "source": [
    "## Predicting labels of language"
   ]
  },
  {
   "cell_type": "code",
   "execution_count": 213,
   "metadata": {},
   "outputs": [
    {
     "data": {
      "text/plain": [
       "'@Hz_Nicat Nicat səni ilmə ilmə eliyərəm,üstünnən tanknan keçib ətinnən dolma bişirib sümüklərinnən xaş eliyərəm əsəblərimnən oynama'"
      ]
     },
     "execution_count": 213,
     "metadata": {},
     "output_type": "execute_result"
    }
   ],
   "source": [
    "x_test_lan[9999]"
   ]
  },
  {
   "cell_type": "code",
   "execution_count": 8,
   "metadata": {},
   "outputs": [],
   "source": [
    "cv = CountVectorizer()"
   ]
  },
  {
   "cell_type": "code",
   "execution_count": 9,
   "metadata": {},
   "outputs": [],
   "source": [
    "train_cv = cv.fit_transform(x_train_lan)"
   ]
  },
  {
   "cell_type": "code",
   "execution_count": 10,
   "metadata": {},
   "outputs": [],
   "source": [
    "test_cv = cv.transform(x_test_lan)"
   ]
  },
  {
   "cell_type": "code",
   "execution_count": 243,
   "metadata": {},
   "outputs": [
    {
     "data": {
      "text/plain": [
       "(4999, 18060)"
      ]
     },
     "execution_count": 243,
     "metadata": {},
     "output_type": "execute_result"
    }
   ],
   "source": [
    "train_cv.shape"
   ]
  },
  {
   "cell_type": "code",
   "execution_count": 244,
   "metadata": {},
   "outputs": [
    {
     "data": {
      "text/plain": [
       "(5001, 18060)"
      ]
     },
     "execution_count": 244,
     "metadata": {},
     "output_type": "execute_result"
    }
   ],
   "source": [
    "test_cv.shape"
   ]
  },
  {
   "cell_type": "code",
   "execution_count": 323,
   "metadata": {},
   "outputs": [
    {
     "data": {
      "text/plain": [
       "(1861,)"
      ]
     },
     "execution_count": 323,
     "metadata": {},
     "output_type": "execute_result"
    }
   ],
   "source": [
    "y_train_lan.shape"
   ]
  },
  {
   "cell_type": "code",
   "execution_count": 11,
   "metadata": {},
   "outputs": [
    {
     "data": {
      "text/plain": [
       "SVC(C=1.0, break_ties=False, cache_size=200, class_weight=None, coef0=0.0,\n",
       "    decision_function_shape='ovr', degree=3, gamma='auto', kernel='linear',\n",
       "    max_iter=-1, probability=False, random_state=1, shrinking=True, tol=0.001,\n",
       "    verbose=False)"
      ]
     },
     "execution_count": 11,
     "metadata": {},
     "output_type": "execute_result"
    }
   ],
   "source": [
    "from sklearn.svm import SVC\n",
    "\n",
    "svc_lan = SVC(kernel = 'linear', gamma='auto', random_state = 1)\n",
    "svc_lan.fit(train_cv, y_train_lan)"
   ]
  },
  {
   "cell_type": "code",
   "execution_count": 12,
   "metadata": {},
   "outputs": [],
   "source": [
    "pred_lan = svc_lan.predict(test_cv)"
   ]
  },
  {
   "cell_type": "code",
   "execution_count": 248,
   "metadata": {},
   "outputs": [
    {
     "data": {
      "text/plain": [
       "array(['az', 't', 'az', ..., 'az', 't', 'az'], dtype=object)"
      ]
     },
     "execution_count": 248,
     "metadata": {},
     "output_type": "execute_result"
    }
   ],
   "source": [
    "pred_lan"
   ]
  },
  {
   "cell_type": "code",
   "execution_count": 13,
   "metadata": {},
   "outputs": [],
   "source": [
    "new_data['Language.1'].iloc[4999:] = pred_lan"
   ]
  },
  {
   "cell_type": "code",
   "execution_count": 250,
   "metadata": {},
   "outputs": [
    {
     "data": {
      "text/plain": [
       "0        t\n",
       "1        t\n",
       "2        t\n",
       "3        t\n",
       "4       az\n",
       "        ..\n",
       "9995    az\n",
       "9996    az\n",
       "9997    az\n",
       "9998     t\n",
       "9999    az\n",
       "Name: Language.1, Length: 10000, dtype: object"
      ]
     },
     "execution_count": 250,
     "metadata": {},
     "output_type": "execute_result"
    }
   ],
   "source": [
    "new_data['Language.1']"
   ]
  },
  {
   "cell_type": "code",
   "execution_count": 315,
   "metadata": {},
   "outputs": [
    {
     "data": {
      "text/plain": [
       "Full Text     False\n",
       "Sentiment     False\n",
       "Language.1    False\n",
       "Name: 0, dtype: bool"
      ]
     },
     "execution_count": 315,
     "metadata": {},
     "output_type": "execute_result"
    }
   ],
   "source": [
    "(new_data['Language.1'].iloc[0] == 'az')"
   ]
  },
  {
   "cell_type": "markdown",
   "metadata": {},
   "source": [
    "## Accuracy of first 5000 rows - language"
   ]
  },
  {
   "cell_type": "code",
   "execution_count": 232,
   "metadata": {},
   "outputs": [],
   "source": [
    "x_train_5000, x_test_5000, y_train_5000, y_test_5000 = train_test_split(train_cv, y_train_lan, test_size=0.2, random_state=1)"
   ]
  },
  {
   "cell_type": "code",
   "execution_count": 234,
   "metadata": {},
   "outputs": [
    {
     "data": {
      "text/plain": [
       "SVC(C=1.0, break_ties=False, cache_size=200, class_weight=None, coef0=0.0,\n",
       "    decision_function_shape='ovr', degree=3, gamma='auto', kernel='linear',\n",
       "    max_iter=-1, probability=False, random_state=1, shrinking=True, tol=0.001,\n",
       "    verbose=False)"
      ]
     },
     "execution_count": 234,
     "metadata": {},
     "output_type": "execute_result"
    }
   ],
   "source": [
    "svc_5000 = SVC(kernel = 'linear', gamma='auto', random_state = 1)\n",
    "svc_5000.fit(x_train_5000, y_train_5000)"
   ]
  },
  {
   "cell_type": "code",
   "execution_count": 238,
   "metadata": {},
   "outputs": [],
   "source": [
    "pred_5000 = svc_5000.predict(x_test_5000)"
   ]
  },
  {
   "cell_type": "code",
   "execution_count": 239,
   "metadata": {},
   "outputs": [
    {
     "name": "stdout",
     "output_type": "stream",
     "text": [
      "              precision    recall  f1-score   support\n",
      "\n",
      "          az       0.90      0.97      0.93       678\n",
      "          en       0.00      0.00      0.00         4\n",
      "           t       0.92      0.79      0.85       318\n",
      "\n",
      "    accuracy                           0.91      1000\n",
      "   macro avg       0.61      0.59      0.59      1000\n",
      "weighted avg       0.91      0.91      0.90      1000\n",
      "\n"
     ]
    }
   ],
   "source": [
    "print(classification_report(y_test_5000, pred_5000))"
   ]
  },
  {
   "cell_type": "markdown",
   "metadata": {},
   "source": [
    "## Sentiment Prediction"
   ]
  },
  {
   "cell_type": "code",
   "execution_count": 14,
   "metadata": {},
   "outputs": [],
   "source": [
    "x = new_data['Full Text']\n",
    "y_s = new_data['Sentiment']"
   ]
  },
  {
   "cell_type": "code",
   "execution_count": 15,
   "metadata": {},
   "outputs": [],
   "source": [
    "x_train_sen = x.iloc[:4999]\n",
    "x_test_sen = x.iloc[4999:]\n",
    "y_train_sen = y_s.iloc[:4999]\n",
    "y_test_sen = y_s.iloc[4999:]"
   ]
  },
  {
   "cell_type": "code",
   "execution_count": 16,
   "metadata": {},
   "outputs": [],
   "source": [
    "cv_f = CountVectorizer()\n",
    "train_cv_sen = cv_f.fit_transform(x_train_sen)\n",
    "test_cv_sen = cv_f.transform(x_test_sen)"
   ]
  },
  {
   "cell_type": "code",
   "execution_count": 17,
   "metadata": {},
   "outputs": [
    {
     "data": {
      "text/plain": [
       "SVC(C=1.0, break_ties=False, cache_size=200, class_weight=None, coef0=0.0,\n",
       "    decision_function_shape='ovr', degree=3, gamma='auto', kernel='linear',\n",
       "    max_iter=-1, probability=False, random_state=1, shrinking=True, tol=0.001,\n",
       "    verbose=False)"
      ]
     },
     "execution_count": 17,
     "metadata": {},
     "output_type": "execute_result"
    }
   ],
   "source": [
    "\n",
    "\n",
    "svc_sen = SVC(kernel = 'linear', gamma='auto', random_state = 1)\n",
    "svc_sen.fit(train_cv_sen, y_train_sen)"
   ]
  },
  {
   "cell_type": "code",
   "execution_count": 18,
   "metadata": {},
   "outputs": [],
   "source": [
    "pred_sen = svc_sen.predict(test_cv_sen)"
   ]
  },
  {
   "cell_type": "code",
   "execution_count": 22,
   "metadata": {},
   "outputs": [
    {
     "data": {
      "text/plain": [
       "array(['ne', 'ne', 'mu', ..., 'ne', 'mu', 'ne'], dtype=object)"
      ]
     },
     "execution_count": 22,
     "metadata": {},
     "output_type": "execute_result"
    }
   ],
   "source": [
    "pred_sen\n"
   ]
  },
  {
   "cell_type": "code",
   "execution_count": 19,
   "metadata": {
    "scrolled": true
   },
   "outputs": [],
   "source": [
    "new_data['Sentiment'].iloc[4999:] = pred_sen"
   ]
  },
  {
   "cell_type": "code",
   "execution_count": 24,
   "metadata": {},
   "outputs": [
    {
     "data": {
      "text/plain": [
       "0       ne\n",
       "1       mu\n",
       "2       ne\n",
       "3       ne\n",
       "4       ne\n",
       "        ..\n",
       "9995    mu\n",
       "9996    ne\n",
       "9997    ne\n",
       "9998    mu\n",
       "9999    ne\n",
       "Name: Sentiment, Length: 10000, dtype: object"
      ]
     },
     "execution_count": 24,
     "metadata": {},
     "output_type": "execute_result"
    }
   ],
   "source": [
    "new_data['Sentiment']"
   ]
  },
  {
   "cell_type": "code",
   "execution_count": 22,
   "metadata": {},
   "outputs": [
    {
     "data": {
      "text/plain": [
       "array(['ne', 'mu', 'menfi'], dtype=object)"
      ]
     },
     "execution_count": 22,
     "metadata": {},
     "output_type": "execute_result"
    }
   ],
   "source": [
    "new_data.Sentiment.unique()"
   ]
  },
  {
   "cell_type": "markdown",
   "metadata": {},
   "source": [
    "## Accuracy Sentiment\n"
   ]
  },
  {
   "cell_type": "code",
   "execution_count": 23,
   "metadata": {},
   "outputs": [],
   "source": [
    "cv_f2 = CountVectorizer()\n",
    "train_cv_sentt = cv_f2.fit_transform(x)\n",
    "test_cv_sentt = cv_f2.transform(y_s)"
   ]
  },
  {
   "cell_type": "code",
   "execution_count": 182,
   "metadata": {},
   "outputs": [],
   "source": [
    "x_train_sent, x_test_sent, y_train_sent, y_test_sent = train_test_split(train_cv_sentt, y_s, test_size=0.3, random_state=1)"
   ]
  },
  {
   "cell_type": "code",
   "execution_count": 183,
   "metadata": {},
   "outputs": [
    {
     "data": {
      "text/plain": [
       "SVC(C=1.0, break_ties=False, cache_size=200, class_weight=None, coef0=0.0,\n",
       "    decision_function_shape='ovr', degree=3, gamma='scale', kernel='rbf',\n",
       "    max_iter=-1, probability=False, random_state=None, shrinking=True,\n",
       "    tol=0.001, verbose=False)"
      ]
     },
     "execution_count": 183,
     "metadata": {},
     "output_type": "execute_result"
    }
   ],
   "source": [
    "svc_sent = SVC()\n",
    "svc_sent.fit(x_train_sent, y_train_sent)"
   ]
  },
  {
   "cell_type": "code",
   "execution_count": 184,
   "metadata": {},
   "outputs": [],
   "source": [
    "pred_sent = svc_sent.predict(x_test_sent)"
   ]
  },
  {
   "cell_type": "code",
   "execution_count": 185,
   "metadata": {},
   "outputs": [
    {
     "name": "stdout",
     "output_type": "stream",
     "text": [
      "              precision    recall  f1-score   support\n",
      "\n",
      "       menfi       0.74      0.04      0.08       339\n",
      "          mu       0.82      0.27      0.41       494\n",
      "          ne       0.76      0.99      0.86      2167\n",
      "\n",
      "    accuracy                           0.76      3000\n",
      "   macro avg       0.77      0.43      0.45      3000\n",
      "weighted avg       0.77      0.76      0.70      3000\n",
      "\n"
     ]
    }
   ],
   "source": [
    "print(classification_report(y_test_sent, pred_sent))"
   ]
  },
  {
   "cell_type": "markdown",
   "metadata": {},
   "source": [
    "## Separating turkish and azerbaijan"
   ]
  },
  {
   "cell_type": "code",
   "execution_count": 25,
   "metadata": {},
   "outputs": [],
   "source": [
    "new_data_aze =[]"
   ]
  },
  {
   "cell_type": "code",
   "execution_count": 26,
   "metadata": {},
   "outputs": [],
   "source": [
    "for index, row in new_data.iterrows(): \n",
    "    text = new_data.iloc[index]\n",
    "    if (new_data['Language.1'][index] == 'az'):\n",
    "        new_data_aze.append(text)\n"
   ]
  },
  {
   "cell_type": "code",
   "execution_count": 27,
   "metadata": {},
   "outputs": [],
   "source": [
    "new_data_aze = pd.DataFrame(data=new_data_aze)"
   ]
  },
  {
   "cell_type": "code",
   "execution_count": 28,
   "metadata": {},
   "outputs": [],
   "source": [
    "new_data_aze = new_data_aze.reset_index(drop=True)"
   ]
  },
  {
   "cell_type": "code",
   "execution_count": 29,
   "metadata": {},
   "outputs": [],
   "source": [
    "new_data_aze = new_data_aze.drop(columns=['Language.1'])"
   ]
  },
  {
   "cell_type": "code",
   "execution_count": 30,
   "metadata": {},
   "outputs": [],
   "source": [
    "new_data_aze.to_csv('altun_filtered.csv', encoding = 'utf8')"
   ]
  },
  {
   "cell_type": "code",
   "execution_count": 31,
   "metadata": {},
   "outputs": [
    {
     "data": {
      "text/html": [
       "<div>\n",
       "<style scoped>\n",
       "    .dataframe tbody tr th:only-of-type {\n",
       "        vertical-align: middle;\n",
       "    }\n",
       "\n",
       "    .dataframe tbody tr th {\n",
       "        vertical-align: top;\n",
       "    }\n",
       "\n",
       "    .dataframe thead th {\n",
       "        text-align: right;\n",
       "    }\n",
       "</style>\n",
       "<table border=\"1\" class=\"dataframe\">\n",
       "  <thead>\n",
       "    <tr style=\"text-align: right;\">\n",
       "      <th></th>\n",
       "      <th>Full Text</th>\n",
       "      <th>Sentiment</th>\n",
       "    </tr>\n",
       "  </thead>\n",
       "  <tbody>\n",
       "    <tr>\n",
       "      <th>0</th>\n",
       "      <td>@gunnersamir11 @HandofHenry Yo biz qoymuşuğğ b...</td>\n",
       "      <td>ne</td>\n",
       "    </tr>\n",
       "    <tr>\n",
       "      <th>1</th>\n",
       "      <td>Leo Messi'nin mükəmməl cərimə zərbəsinin Camp ...</td>\n",
       "      <td>ne</td>\n",
       "    </tr>\n",
       "    <tr>\n",
       "      <th>2</th>\n",
       "      <td>@HandofHenry @gunnersamir11 babat soxariq burd...</td>\n",
       "      <td>ne</td>\n",
       "    </tr>\n",
       "    <tr>\n",
       "      <th>3</th>\n",
       "      <td>Qardaşımın məktəbdə yaşadığı 1 günü mənim 1 sm...</td>\n",
       "      <td>mu</td>\n",
       "    </tr>\n",
       "    <tr>\n",
       "      <th>4</th>\n",
       "      <td>@EFidaska Axirincini gozel dedin)</td>\n",
       "      <td>mu</td>\n",
       "    </tr>\n",
       "  </tbody>\n",
       "</table>\n",
       "</div>"
      ],
      "text/plain": [
       "                                           Full Text Sentiment\n",
       "0  @gunnersamir11 @HandofHenry Yo biz qoymuşuğğ b...        ne\n",
       "1  Leo Messi'nin mükəmməl cərimə zərbəsinin Camp ...        ne\n",
       "2  @HandofHenry @gunnersamir11 babat soxariq burd...        ne\n",
       "3  Qardaşımın məktəbdə yaşadığı 1 günü mənim 1 sm...        mu\n",
       "4                  @EFidaska Axirincini gozel dedin)        mu"
      ]
     },
     "execution_count": 31,
     "metadata": {},
     "output_type": "execute_result"
    }
   ],
   "source": [
    "new_data_aze.head()"
   ]
  },
  {
   "cell_type": "markdown",
   "metadata": {},
   "source": [
    "## change values of sentiment"
   ]
  },
  {
   "cell_type": "markdown",
   "metadata": {},
   "source": [
    "## Testing accuracy of Azeri"
   ]
  },
  {
   "cell_type": "code",
   "execution_count": 127,
   "metadata": {},
   "outputs": [],
   "source": [
    "data_f = pd.read_csv(\"altun_filtered.csv\", encoding='utf8')"
   ]
  },
  {
   "cell_type": "code",
   "execution_count": 63,
   "metadata": {},
   "outputs": [
    {
     "data": {
      "text/html": [
       "<div>\n",
       "<style scoped>\n",
       "    .dataframe tbody tr th:only-of-type {\n",
       "        vertical-align: middle;\n",
       "    }\n",
       "\n",
       "    .dataframe tbody tr th {\n",
       "        vertical-align: top;\n",
       "    }\n",
       "\n",
       "    .dataframe thead th {\n",
       "        text-align: right;\n",
       "    }\n",
       "</style>\n",
       "<table border=\"1\" class=\"dataframe\">\n",
       "  <thead>\n",
       "    <tr style=\"text-align: right;\">\n",
       "      <th></th>\n",
       "      <th>Unnamed: 0</th>\n",
       "      <th>Full Text</th>\n",
       "      <th>Sentiment</th>\n",
       "    </tr>\n",
       "  </thead>\n",
       "  <tbody>\n",
       "    <tr>\n",
       "      <th>0</th>\n",
       "      <td>0</td>\n",
       "      <td>@gunnersamir11 @HandofHenry Yo biz qoymuşuğğ b...</td>\n",
       "      <td>ne</td>\n",
       "    </tr>\n",
       "    <tr>\n",
       "      <th>1</th>\n",
       "      <td>1</td>\n",
       "      <td>Leo Messi'nin mükəmməl cərimə zərbəsinin Camp ...</td>\n",
       "      <td>ne</td>\n",
       "    </tr>\n",
       "    <tr>\n",
       "      <th>2</th>\n",
       "      <td>2</td>\n",
       "      <td>@HandofHenry @gunnersamir11 babat soxariq burd...</td>\n",
       "      <td>ne</td>\n",
       "    </tr>\n",
       "    <tr>\n",
       "      <th>3</th>\n",
       "      <td>3</td>\n",
       "      <td>Qardaşımın məktəbdə yaşadığı 1 günü mənim 1 sm...</td>\n",
       "      <td>mu</td>\n",
       "    </tr>\n",
       "    <tr>\n",
       "      <th>4</th>\n",
       "      <td>4</td>\n",
       "      <td>@EFidaska Axirincini gozel dedin)</td>\n",
       "      <td>mu</td>\n",
       "    </tr>\n",
       "  </tbody>\n",
       "</table>\n",
       "</div>"
      ],
      "text/plain": [
       "   Unnamed: 0                                          Full Text Sentiment\n",
       "0           0  @gunnersamir11 @HandofHenry Yo biz qoymuşuğğ b...        ne\n",
       "1           1  Leo Messi'nin mükəmməl cərimə zərbəsinin Camp ...        ne\n",
       "2           2  @HandofHenry @gunnersamir11 babat soxariq burd...        ne\n",
       "3           3  Qardaşımın məktəbdə yaşadığı 1 günü mənim 1 sm...        mu\n",
       "4           4                  @EFidaska Axirincini gozel dedin)        mu"
      ]
     },
     "execution_count": 63,
     "metadata": {},
     "output_type": "execute_result"
    }
   ],
   "source": [
    "data_f.head()"
   ]
  },
  {
   "cell_type": "code",
   "execution_count": 128,
   "metadata": {},
   "outputs": [],
   "source": [
    "x_f = data_f['Full Text']\n",
    "y_f = data_f['Sentiment']"
   ]
  },
  {
   "cell_type": "code",
   "execution_count": 186,
   "metadata": {},
   "outputs": [],
   "source": [
    "cv_fil = CountVectorizer()\n",
    "train_cv_f = cv_fil.fit_transform(x_f)\n",
    "test_cv_f = cv_fil.transform(y_f)"
   ]
  },
  {
   "cell_type": "code",
   "execution_count": 200,
   "metadata": {},
   "outputs": [],
   "source": [
    "x_train_f, x_test_f, y_train_f, y_test_f = train_test_split(train_cv_f, y_f, test_size=0.2, random_state=1)"
   ]
  },
  {
   "cell_type": "code",
   "execution_count": 209,
   "metadata": {},
   "outputs": [
    {
     "data": {
      "text/plain": [
       "SVC(C=1.0, break_ties=False, cache_size=200, class_weight=None, coef0=0.0,\n",
       "    decision_function_shape='ovr', degree=3, gamma='scale', kernel='linear',\n",
       "    max_iter=-1, probability=False, random_state=1, shrinking=True, tol=0.001,\n",
       "    verbose=False)"
      ]
     },
     "execution_count": 209,
     "metadata": {},
     "output_type": "execute_result"
    }
   ],
   "source": [
    "svc_sent = SVC(kernel = 'linear', gamma='auto', random_state = 1)\n",
    "svc_sent.fit(x_train_f, y_train_f)"
   ]
  },
  {
   "cell_type": "code",
   "execution_count": 210,
   "metadata": {},
   "outputs": [
    {
     "name": "stdout",
     "output_type": "stream",
     "text": [
      "              precision    recall  f1-score   support\n",
      "\n",
      "       menfi       0.65      0.33      0.43       169\n",
      "          mu       0.59      0.46      0.52       194\n",
      "          ne       0.84      0.94      0.89      1152\n",
      "\n",
      "    accuracy                           0.81      1515\n",
      "   macro avg       0.69      0.57      0.61      1515\n",
      "weighted avg       0.79      0.81      0.79      1515\n",
      "\n"
     ]
    }
   ],
   "source": [
    "pred_sent_f = svc_sent.predict(x_test_f)\n",
    "\n",
    "print(classification_report(y_test_f, pred_sent_f))"
   ]
  },
  {
   "cell_type": "code",
   "execution_count": 81,
   "metadata": {},
   "outputs": [],
   "source": [
    "from sklearn.linear_model import LogisticRegression"
   ]
  },
  {
   "cell_type": "code",
   "execution_count": 82,
   "metadata": {},
   "outputs": [
    {
     "name": "stderr",
     "output_type": "stream",
     "text": [
      "c:\\users\\hp\\appdata\\local\\programs\\python\\python38\\lib\\site-packages\\sklearn\\linear_model\\_logistic.py:938: ConvergenceWarning: lbfgs failed to converge (status=1):\n",
      "STOP: TOTAL NO. of ITERATIONS REACHED LIMIT.\n",
      "\n",
      "Increase the number of iterations (max_iter) or scale the data as shown in:\n",
      "    https://scikit-learn.org/stable/modules/preprocessing.html\n",
      "Please also refer to the documentation for alternative solver options:\n",
      "    https://scikit-learn.org/stable/modules/linear_model.html#logistic-regression\n",
      "  n_iter_i = _check_optimize_result(\n"
     ]
    },
    {
     "data": {
      "text/plain": [
       "LogisticRegression(C=1.0, class_weight=None, dual=False, fit_intercept=True,\n",
       "                   intercept_scaling=1, l1_ratio=None, max_iter=100,\n",
       "                   multi_class='auto', n_jobs=None, penalty='l2',\n",
       "                   random_state=None, solver='lbfgs', tol=0.0001, verbose=0,\n",
       "                   warm_start=False)"
      ]
     },
     "execution_count": 82,
     "metadata": {},
     "output_type": "execute_result"
    }
   ],
   "source": [
    "logreg = LogisticRegression()\n",
    "logreg.fit(x_train_f, y_train_f)"
   ]
  },
  {
   "cell_type": "code",
   "execution_count": 83,
   "metadata": {},
   "outputs": [],
   "source": [
    "Z = logreg.predict(x_test_f)"
   ]
  },
  {
   "cell_type": "code",
   "execution_count": 84,
   "metadata": {},
   "outputs": [
    {
     "name": "stdout",
     "output_type": "stream",
     "text": [
      "              precision    recall  f1-score   support\n",
      "\n",
      "       menfi       0.71      0.24      0.36        21\n",
      "          mu       0.48      0.29      0.36        38\n",
      "          ne       0.70      0.88      0.78       112\n",
      "\n",
      "    accuracy                           0.67       171\n",
      "   macro avg       0.63      0.47      0.50       171\n",
      "weighted avg       0.65      0.67      0.64       171\n",
      "\n"
     ]
    }
   ],
   "source": [
    "print(classification_report(y_test_f, Z))"
   ]
  },
  {
   "cell_type": "code",
   "execution_count": 85,
   "metadata": {},
   "outputs": [],
   "source": [
    "from sklearn.tree import DecisionTreeClassifier\n",
    "clf = DecisionTreeClassifier(random_state=0)"
   ]
  },
  {
   "cell_type": "code",
   "execution_count": 86,
   "metadata": {},
   "outputs": [
    {
     "data": {
      "text/plain": [
       "DecisionTreeClassifier(ccp_alpha=0.0, class_weight=None, criterion='gini',\n",
       "                       max_depth=None, max_features=None, max_leaf_nodes=None,\n",
       "                       min_impurity_decrease=0.0, min_impurity_split=None,\n",
       "                       min_samples_leaf=1, min_samples_split=2,\n",
       "                       min_weight_fraction_leaf=0.0, presort='deprecated',\n",
       "                       random_state=0, splitter='best')"
      ]
     },
     "execution_count": 86,
     "metadata": {},
     "output_type": "execute_result"
    }
   ],
   "source": [
    "clf.fit(x_train_f, y_train_f)"
   ]
  },
  {
   "cell_type": "code",
   "execution_count": 87,
   "metadata": {},
   "outputs": [],
   "source": [
    "DTC_prediction = clf.predict(x_test_f)"
   ]
  },
  {
   "cell_type": "code",
   "execution_count": 88,
   "metadata": {},
   "outputs": [
    {
     "name": "stdout",
     "output_type": "stream",
     "text": [
      "              precision    recall  f1-score   support\n",
      "\n",
      "       menfi       0.25      0.19      0.22        21\n",
      "          mu       0.38      0.29      0.33        38\n",
      "          ne       0.72      0.81      0.76       112\n",
      "\n",
      "    accuracy                           0.62       171\n",
      "   macro avg       0.45      0.43      0.44       171\n",
      "weighted avg       0.59      0.62      0.60       171\n",
      "\n"
     ]
    }
   ],
   "source": [
    "print(classification_report(y_test_f,DTC_prediction))"
   ]
  },
  {
   "cell_type": "code",
   "execution_count": 90,
   "metadata": {},
   "outputs": [],
   "source": [
    "from sklearn.neural_network import MLPClassifier\n",
    "mc = MLPClassifier(hidden_layer_sizes=(50,50,50),activation='relu', solver='adam', random_state = 1, max_iter=100)"
   ]
  },
  {
   "cell_type": "code",
   "execution_count": 92,
   "metadata": {},
   "outputs": [
    {
     "data": {
      "text/plain": [
       "MLPClassifier(activation='relu', alpha=0.0001, batch_size='auto', beta_1=0.9,\n",
       "              beta_2=0.999, early_stopping=False, epsilon=1e-08,\n",
       "              hidden_layer_sizes=(50, 50, 50), learning_rate='constant',\n",
       "              learning_rate_init=0.001, max_fun=15000, max_iter=100,\n",
       "              momentum=0.9, n_iter_no_change=10, nesterovs_momentum=True,\n",
       "              power_t=0.5, random_state=1, shuffle=True, solver='adam',\n",
       "              tol=0.0001, validation_fraction=0.1, verbose=False,\n",
       "              warm_start=False)"
      ]
     },
     "execution_count": 92,
     "metadata": {},
     "output_type": "execute_result"
    }
   ],
   "source": [
    "mc.fit(x_train_f, y_train_f)"
   ]
  },
  {
   "cell_type": "code",
   "execution_count": 93,
   "metadata": {},
   "outputs": [],
   "source": [
    "NN_prediction1 = mc.predict(x_test_f)"
   ]
  },
  {
   "cell_type": "code",
   "execution_count": 94,
   "metadata": {},
   "outputs": [
    {
     "name": "stdout",
     "output_type": "stream",
     "text": [
      "              precision    recall  f1-score   support\n",
      "\n",
      "       menfi       0.35      0.33      0.34        21\n",
      "          mu       0.36      0.26      0.30        38\n",
      "          ne       0.72      0.79      0.76       112\n",
      "\n",
      "    accuracy                           0.62       171\n",
      "   macro avg       0.48      0.46      0.47       171\n",
      "weighted avg       0.60      0.62      0.61       171\n",
      "\n"
     ]
    }
   ],
   "source": [
    "print(classification_report(y_test_f,NN_prediction1))"
   ]
  },
  {
   "cell_type": "markdown",
   "metadata": {},
   "source": [
    "## Fixing language labels for javid"
   ]
  },
  {
   "cell_type": "code",
   "execution_count": 109,
   "metadata": {},
   "outputs": [],
   "source": [
    "data_j = pd.read_excel(\"Processed_Javid-1.xlsx\", encoding='utf8')"
   ]
  },
  {
   "cell_type": "code",
   "execution_count": 81,
   "metadata": {},
   "outputs": [
    {
     "data": {
      "text/html": [
       "<div>\n",
       "<style scoped>\n",
       "    .dataframe tbody tr th:only-of-type {\n",
       "        vertical-align: middle;\n",
       "    }\n",
       "\n",
       "    .dataframe tbody tr th {\n",
       "        vertical-align: top;\n",
       "    }\n",
       "\n",
       "    .dataframe thead th {\n",
       "        text-align: right;\n",
       "    }\n",
       "</style>\n",
       "<table border=\"1\" class=\"dataframe\">\n",
       "  <thead>\n",
       "    <tr style=\"text-align: right;\">\n",
       "      <th></th>\n",
       "      <th>Full Text</th>\n",
       "      <th>Clean Text</th>\n",
       "      <th>Cost</th>\n",
       "      <th>Sentiment</th>\n",
       "      <th>Main Language</th>\n",
       "      <th>User DTO</th>\n",
       "      <th>User Name</th>\n",
       "      <th>User Location</th>\n",
       "      <th>Language</th>\n",
       "      <th>Hashtags</th>\n",
       "      <th>Tweet Local Creation Date</th>\n",
       "      <th>Created At</th>\n",
       "    </tr>\n",
       "  </thead>\n",
       "  <tbody>\n",
       "    <tr>\n",
       "      <th>0</th>\n",
       "      <td>@nemosh_m Dua Lipa Bakini unutdu bizimkiler on...</td>\n",
       "      <td>Dua Lipa Bakini unutdu bizimkiler onun videol...</td>\n",
       "      <td>NaN</td>\n",
       "      <td>mn</td>\n",
       "      <td>A</td>\n",
       "      <td>EFidaska</td>\n",
       "      <td>Asadzade 💎</td>\n",
       "      <td>azerbaijan/baku</td>\n",
       "      <td>Turkish</td>\n",
       "      <td>NaN</td>\n",
       "      <td>2018-05-02 22:00:34.211</td>\n",
       "      <td>2018-05-01 04:16:47</td>\n",
       "    </tr>\n",
       "    <tr>\n",
       "      <th>1</th>\n",
       "      <td>Adam bir nəfəri stalklıyar)</td>\n",
       "      <td>Adam bir nəfəri stalklıyar)</td>\n",
       "      <td>NaN</td>\n",
       "      <td>mn</td>\n",
       "      <td>a</td>\n",
       "      <td>Gicbesername</td>\n",
       "      <td>Gicbəsər 💥💣</td>\n",
       "      <td>Bakı</td>\n",
       "      <td>Turkish</td>\n",
       "      <td>NaN</td>\n",
       "      <td>2018-05-02 22:00:34.211</td>\n",
       "      <td>2018-05-01 04:21:05</td>\n",
       "    </tr>\n",
       "    <tr>\n",
       "      <th>2</th>\n",
       "      <td>məni stalklıyan yoxdu</td>\n",
       "      <td>məni stalklıyan yoxdu</td>\n",
       "      <td>NaN</td>\n",
       "      <td>n</td>\n",
       "      <td>a</td>\n",
       "      <td>Gicbesername</td>\n",
       "      <td>Gicbəsər 💥💣</td>\n",
       "      <td>Bakı</td>\n",
       "      <td>Turkish</td>\n",
       "      <td>NaN</td>\n",
       "      <td>2018-05-02 22:00:34.211</td>\n",
       "      <td>2018-05-01 04:22:49</td>\n",
       "    </tr>\n",
       "    <tr>\n",
       "      <th>3</th>\n",
       "      <td>RT @Gicbesername: nəysə yatıram sabah çoxlu me...</td>\n",
       "      <td>nəysə yatıram sabah çoxlu mesaj gələcəy</td>\n",
       "      <td>NaN</td>\n",
       "      <td>n</td>\n",
       "      <td>a</td>\n",
       "      <td>Gicbesername</td>\n",
       "      <td>Gicbəsər 💥💣</td>\n",
       "      <td>Bakı</td>\n",
       "      <td>Turkish</td>\n",
       "      <td>NaN</td>\n",
       "      <td>2018-05-02 22:00:34.211</td>\n",
       "      <td>2018-05-01 04:23:36</td>\n",
       "    </tr>\n",
       "    <tr>\n",
       "      <th>4</th>\n",
       "      <td>@qubiyevaego_GS Mən də dərdimi sənə danışım. D...</td>\n",
       "      <td>Mən də dərdimi sənə danışım. Dinləyərsən?Mənd...</td>\n",
       "      <td>NaN</td>\n",
       "      <td>ms</td>\n",
       "      <td>a</td>\n",
       "      <td>Parvizisa</td>\n",
       "      <td>Parvizisa</td>\n",
       "      <td>Baku</td>\n",
       "      <td>Turkish</td>\n",
       "      <td>NaN</td>\n",
       "      <td>2018-05-02 22:00:34.211</td>\n",
       "      <td>2018-05-01 04:50:03</td>\n",
       "    </tr>\n",
       "  </tbody>\n",
       "</table>\n",
       "</div>"
      ],
      "text/plain": [
       "                                           Full Text  \\\n",
       "0  @nemosh_m Dua Lipa Bakini unutdu bizimkiler on...   \n",
       "1                        Adam bir nəfəri stalklıyar)   \n",
       "2                              məni stalklıyan yoxdu   \n",
       "3  RT @Gicbesername: nəysə yatıram sabah çoxlu me...   \n",
       "4  @qubiyevaego_GS Mən də dərdimi sənə danışım. D...   \n",
       "\n",
       "                                          Clean Text  Cost Sentiment  \\\n",
       "0   Dua Lipa Bakini unutdu bizimkiler onun videol...   NaN        mn   \n",
       "1                        Adam bir nəfəri stalklıyar)   NaN        mn   \n",
       "2                              məni stalklıyan yoxdu   NaN         n   \n",
       "3            nəysə yatıram sabah çoxlu mesaj gələcəy   NaN         n   \n",
       "4   Mən də dərdimi sənə danışım. Dinləyərsən?Mənd...   NaN        ms   \n",
       "\n",
       "  Main Language      User DTO    User Name    User Location Language Hashtags  \\\n",
       "0             A      EFidaska   Asadzade 💎  azerbaijan/baku  Turkish      NaN   \n",
       "1             a  Gicbesername  Gicbəsər 💥💣             Bakı  Turkish      NaN   \n",
       "2             a  Gicbesername  Gicbəsər 💥💣             Bakı  Turkish      NaN   \n",
       "3             a  Gicbesername  Gicbəsər 💥💣             Bakı  Turkish      NaN   \n",
       "4             a     Parvizisa    Parvizisa             Baku  Turkish      NaN   \n",
       "\n",
       "  Tweet Local Creation Date          Created At  \n",
       "0   2018-05-02 22:00:34.211 2018-05-01 04:16:47  \n",
       "1   2018-05-02 22:00:34.211 2018-05-01 04:21:05  \n",
       "2   2018-05-02 22:00:34.211 2018-05-01 04:22:49  \n",
       "3   2018-05-02 22:00:34.211 2018-05-01 04:23:36  \n",
       "4   2018-05-02 22:00:34.211 2018-05-01 04:50:03  "
      ]
     },
     "execution_count": 81,
     "metadata": {},
     "output_type": "execute_result"
    }
   ],
   "source": [
    "data_j.head()"
   ]
  },
  {
   "cell_type": "code",
   "execution_count": 110,
   "metadata": {},
   "outputs": [
    {
     "data": {
      "text/html": [
       "<div>\n",
       "<style scoped>\n",
       "    .dataframe tbody tr th:only-of-type {\n",
       "        vertical-align: middle;\n",
       "    }\n",
       "\n",
       "    .dataframe tbody tr th {\n",
       "        vertical-align: top;\n",
       "    }\n",
       "\n",
       "    .dataframe thead th {\n",
       "        text-align: right;\n",
       "    }\n",
       "</style>\n",
       "<table border=\"1\" class=\"dataframe\">\n",
       "  <thead>\n",
       "    <tr style=\"text-align: right;\">\n",
       "      <th></th>\n",
       "      <th>Text</th>\n",
       "      <th>Sentiment</th>\n",
       "      <th>Language</th>\n",
       "    </tr>\n",
       "  </thead>\n",
       "  <tbody>\n",
       "    <tr>\n",
       "      <th>0</th>\n",
       "      <td>Dua Lipa Bakini unutdu bizimkiler onun videol...</td>\n",
       "      <td>mn</td>\n",
       "      <td>a</td>\n",
       "    </tr>\n",
       "    <tr>\n",
       "      <th>1</th>\n",
       "      <td>Adam bir nəfəri stalklıyar)</td>\n",
       "      <td>mn</td>\n",
       "      <td>a</td>\n",
       "    </tr>\n",
       "    <tr>\n",
       "      <th>2</th>\n",
       "      <td>məni stalklıyan yoxdu</td>\n",
       "      <td>n</td>\n",
       "      <td>a</td>\n",
       "    </tr>\n",
       "    <tr>\n",
       "      <th>3</th>\n",
       "      <td>nəysə yatıram sabah çoxlu mesaj gələcəy</td>\n",
       "      <td>n</td>\n",
       "      <td>a</td>\n",
       "    </tr>\n",
       "    <tr>\n",
       "      <th>4</th>\n",
       "      <td>Mən də dərdimi sənə danışım. Dinləyərsən?Mənd...</td>\n",
       "      <td>ms</td>\n",
       "      <td>a</td>\n",
       "    </tr>\n",
       "  </tbody>\n",
       "</table>\n",
       "</div>"
      ],
      "text/plain": [
       "                                                Text Sentiment Language\n",
       "0   Dua Lipa Bakini unutdu bizimkiler onun videol...        mn        a\n",
       "1                        Adam bir nəfəri stalklıyar)        mn        a\n",
       "2                              məni stalklıyan yoxdu         n        a\n",
       "3            nəysə yatıram sabah çoxlu mesaj gələcəy         n        a\n",
       "4   Mən də dərdimi sənə danışım. Dinləyərsən?Mənd...        ms        a"
      ]
     },
     "execution_count": 110,
     "metadata": {},
     "output_type": "execute_result"
    }
   ],
   "source": [
    "text = data_j['Clean Text']\n",
    "sentiment = data_j['Sentiment']\n",
    "language = data_j['Main Language']\n",
    "\n",
    "n_data = {'Text':text, 'Sentiment': sentiment, 'Language': language}\n",
    "n_data_j = pd.DataFrame(data=n_data)\n",
    "\n",
    "n_data_j.head()\n",
    "\n"
   ]
  },
  {
   "cell_type": "code",
   "execution_count": 111,
   "metadata": {},
   "outputs": [],
   "source": [
    "x_j = n_data_j['Text']\n",
    "sen_j = n_data_j['Sentiment']\n",
    "lan_j = n_data_j['Language']"
   ]
  },
  {
   "cell_type": "code",
   "execution_count": 94,
   "metadata": {},
   "outputs": [
    {
     "data": {
      "text/plain": [
       "0        Dua Lipa Bakini unutdu bizimkiler onun videol...\n",
       "1                             Adam bir nəfəri stalklıyar)\n",
       "2                                   məni stalklıyan yoxdu\n",
       "3                 nəysə yatıram sabah çoxlu mesaj gələcəy\n",
       "4        Mən də dərdimi sənə danışım. Dinləyərsən?Mənd...\n",
       "                              ...                        \n",
       "1852     Ele ushag istyirem gel goresiz. Istyirem baci...\n",
       "1853                                   +266(umutsuz vaka)\n",
       "1854                           +267 (onda yatmaq vaxtıdı)\n",
       "1855     Bərabər yaşamadıq biz. Görüşdük sadəcə. Sevmə...\n",
       "1856     Cüneyt qoysun! :D Başa düşürəm e, 3 il ÇL fin...\n",
       "Name: Text, Length: 1857, dtype: object"
      ]
     },
     "execution_count": 94,
     "metadata": {},
     "output_type": "execute_result"
    }
   ],
   "source": [
    "x_j"
   ]
  },
  {
   "cell_type": "code",
   "execution_count": 112,
   "metadata": {},
   "outputs": [],
   "source": [
    "cv_javid = CountVectorizer()\n",
    "train_cv_j = cv_javid.fit_transform(x_j.values.astype('U'))"
   ]
  },
  {
   "cell_type": "code",
   "execution_count": 100,
   "metadata": {},
   "outputs": [],
   "source": [
    "x_train_j_lan, x_test_j_lan, y_train_j_lan, y_test_j_lan = train_test_split(train_cv_j_lan, lan_j, test_size=0.1, random_state=1)"
   ]
  },
  {
   "cell_type": "code",
   "execution_count": 101,
   "metadata": {},
   "outputs": [
    {
     "data": {
      "text/plain": [
       "SVC(C=1.0, break_ties=False, cache_size=200, class_weight=None, coef0=0.0,\n",
       "    decision_function_shape='ovr', degree=3, gamma='scale', kernel='rbf',\n",
       "    max_iter=-1, probability=False, random_state=None, shrinking=True,\n",
       "    tol=0.001, verbose=False)"
      ]
     },
     "execution_count": 101,
     "metadata": {},
     "output_type": "execute_result"
    }
   ],
   "source": [
    "from sklearn.svm import SVC\n",
    "\n",
    "svc_j_lan = SVC()\n",
    "svc_j_lan.fit(x_train_j_lan, y_train_j_lan)"
   ]
  },
  {
   "cell_type": "code",
   "execution_count": 102,
   "metadata": {},
   "outputs": [],
   "source": [
    "pred_j_lan = svc_j_lan.predict(x_test_j_lan)"
   ]
  },
  {
   "cell_type": "code",
   "execution_count": 103,
   "metadata": {},
   "outputs": [
    {
     "name": "stdout",
     "output_type": "stream",
     "text": [
      "              precision    recall  f1-score   support\n",
      "\n",
      "           a       0.82      1.00      0.90       149\n",
      "           t       1.00      0.11      0.20        37\n",
      "\n",
      "    accuracy                           0.82       186\n",
      "   macro avg       0.91      0.55      0.55       186\n",
      "weighted avg       0.85      0.82      0.76       186\n",
      "\n"
     ]
    }
   ],
   "source": [
    "print(classification_report(y_test_j_lan,pred_j_lan))"
   ]
  },
  {
   "cell_type": "code",
   "execution_count": 178,
   "metadata": {},
   "outputs": [],
   "source": [
    "x_train_j_sen, x_test_j_sen, y_train_j_sen, y_test_j_sen = train_test_split(train_cv_j, sen_j, test_size=0.3, random_state=1)"
   ]
  },
  {
   "cell_type": "code",
   "execution_count": 179,
   "metadata": {},
   "outputs": [
    {
     "data": {
      "text/plain": [
       "SVC(C=1.0, break_ties=False, cache_size=200, class_weight=None, coef0=0.0,\n",
       "    decision_function_shape='ovr', degree=3, gamma='scale', kernel='rbf',\n",
       "    max_iter=-1, probability=False, random_state=None, shrinking=True,\n",
       "    tol=0.001, verbose=False)"
      ]
     },
     "execution_count": 179,
     "metadata": {},
     "output_type": "execute_result"
    }
   ],
   "source": [
    "svc_j_sen = SVC()\n",
    "svc_j_sen.fit(x_train_j_sen, y_train_j_sen)"
   ]
  },
  {
   "cell_type": "code",
   "execution_count": 180,
   "metadata": {},
   "outputs": [],
   "source": [
    "pred_j_sen = svc_j_sen.predict(x_test_j_sen)"
   ]
  },
  {
   "cell_type": "code",
   "execution_count": 181,
   "metadata": {
    "scrolled": true
   },
   "outputs": [
    {
     "name": "stdout",
     "output_type": "stream",
     "text": [
      "              precision    recall  f1-score   support\n",
      "\n",
      "          mn       0.50      0.01      0.03        72\n",
      "          ms       1.00      0.03      0.06        93\n",
      "           n       0.71      1.00      0.83       393\n",
      "\n",
      "    accuracy                           0.71       558\n",
      "   macro avg       0.74      0.35      0.31       558\n",
      "weighted avg       0.73      0.71      0.60       558\n",
      "\n"
     ]
    }
   ],
   "source": [
    "print(classification_report(y_test_j_sen,pred_j_sen))"
   ]
  },
  {
   "cell_type": "markdown",
   "metadata": {},
   "source": [
    "## separating aze from all (javid)"
   ]
  },
  {
   "cell_type": "code",
   "execution_count": 118,
   "metadata": {},
   "outputs": [
    {
     "data": {
      "text/html": [
       "<div>\n",
       "<style scoped>\n",
       "    .dataframe tbody tr th:only-of-type {\n",
       "        vertical-align: middle;\n",
       "    }\n",
       "\n",
       "    .dataframe tbody tr th {\n",
       "        vertical-align: top;\n",
       "    }\n",
       "\n",
       "    .dataframe thead th {\n",
       "        text-align: right;\n",
       "    }\n",
       "</style>\n",
       "<table border=\"1\" class=\"dataframe\">\n",
       "  <thead>\n",
       "    <tr style=\"text-align: right;\">\n",
       "      <th></th>\n",
       "      <th>Text</th>\n",
       "      <th>Sentiment</th>\n",
       "    </tr>\n",
       "  </thead>\n",
       "  <tbody>\n",
       "    <tr>\n",
       "      <th>0</th>\n",
       "      <td>Dua Lipa Bakini unutdu bizimkiler onun videol...</td>\n",
       "      <td>mn</td>\n",
       "    </tr>\n",
       "    <tr>\n",
       "      <th>1</th>\n",
       "      <td>Adam bir nəfəri stalklıyar)</td>\n",
       "      <td>mn</td>\n",
       "    </tr>\n",
       "    <tr>\n",
       "      <th>2</th>\n",
       "      <td>məni stalklıyan yoxdu</td>\n",
       "      <td>n</td>\n",
       "    </tr>\n",
       "    <tr>\n",
       "      <th>3</th>\n",
       "      <td>nəysə yatıram sabah çoxlu mesaj gələcəy</td>\n",
       "      <td>n</td>\n",
       "    </tr>\n",
       "    <tr>\n",
       "      <th>4</th>\n",
       "      <td>Mən də dərdimi sənə danışım. Dinləyərsən?Mənd...</td>\n",
       "      <td>ms</td>\n",
       "    </tr>\n",
       "    <tr>\n",
       "      <th>5</th>\n",
       "      <td>Kim yatmış kim oyaq?</td>\n",
       "      <td>n</td>\n",
       "    </tr>\n",
       "    <tr>\n",
       "      <th>6</th>\n",
       "      <td>Adaptır qızdırır, istiliyini telefona telefon...</td>\n",
       "      <td>n</td>\n",
       "    </tr>\n",
       "    <tr>\n",
       "      <th>7</th>\n",
       "      <td>Bu boyda Twitterdə təkcə mən oyağam ala?</td>\n",
       "      <td>mn</td>\n",
       "    </tr>\n",
       "    <tr>\n",
       "      <th>8</th>\n",
       "      <td>Hər acıya adı ilə ümüd verən Allah'a həmd ols...</td>\n",
       "      <td>ms</td>\n",
       "    </tr>\n",
       "    <tr>\n",
       "      <th>9</th>\n",
       "      <td>Allah hiç yorulmadan ve sıkılmadan an be an h...</td>\n",
       "      <td>ms</td>\n",
       "    </tr>\n",
       "    <tr>\n",
       "      <th>10</th>\n",
       "      <td>Tarix.. 17 iyun 1993-cü il . Milli Məclisdə İ...</td>\n",
       "      <td>n</td>\n",
       "    </tr>\n",
       "    <tr>\n",
       "      <th>11</th>\n",
       "      <td>Retweeted Rufat Bakhishbeyli 17 iyun 1993-cü ...</td>\n",
       "      <td>n</td>\n",
       "    </tr>\n",
       "    <tr>\n",
       "      <th>12</th>\n",
       "      <td>Təşəkkür edirem Zeynep</td>\n",
       "      <td>n</td>\n",
       "    </tr>\n",
       "    <tr>\n",
       "      <th>13</th>\n",
       "      <td>Birini unutmağın, birini sile bilmenin verdiy...</td>\n",
       "      <td>mn</td>\n",
       "    </tr>\n",
       "    <tr>\n",
       "      <th>14</th>\n",
       "      <td>Assalamun Aleykum. Sabahınız xeyirlə açılsın.</td>\n",
       "      <td>ms</td>\n",
       "    </tr>\n",
       "    <tr>\n",
       "      <th>15</th>\n",
       "      <td>-Direcktda yazırlar a bala, çox məşqulam</td>\n",
       "      <td>n</td>\n",
       "    </tr>\n",
       "    <tr>\n",
       "      <th>16</th>\n",
       "      <td>Bizimki yaşayış deyil Ay Kələntər dayı</td>\n",
       "      <td>mn</td>\n",
       "    </tr>\n",
       "    <tr>\n",
       "      <th>17</th>\n",
       "      <td>Vaxt var idi SSRİ-də 1 mayı elə həsrətlə gözl...</td>\n",
       "      <td>mn</td>\n",
       "    </tr>\n",
       "    <tr>\n",
       "      <th>18</th>\n",
       "      <td>Insta'da online çanta satışı səhifəsi var,hər...</td>\n",
       "      <td>n</td>\n",
       "    </tr>\n",
       "    <tr>\n",
       "      <th>19</th>\n",
       "      <td>Ermənistan bu gün baş nazirini seçəcək. Çox g...</td>\n",
       "      <td>n</td>\n",
       "    </tr>\n",
       "    <tr>\n",
       "      <th>20</th>\n",
       "      <td>Səhər 6da oyanib 8də işdə olanlar var.Şükür elə😉</td>\n",
       "      <td>n</td>\n",
       "    </tr>\n",
       "    <tr>\n",
       "      <th>21</th>\n",
       "      <td>Acı təcrübələrlə öyrəndim ki, məndə o yaş 23dü</td>\n",
       "      <td>mn</td>\n",
       "    </tr>\n",
       "    <tr>\n",
       "      <th>22</th>\n",
       "      <td>Azərbaycanlılar yeyir.</td>\n",
       "      <td>mn</td>\n",
       "    </tr>\n",
       "    <tr>\n",
       "      <th>23</th>\n",
       "      <td>Qayıb limitimi istifadə eləməsəydim indi yati...</td>\n",
       "      <td>mn</td>\n",
       "    </tr>\n",
       "    <tr>\n",
       "      <th>24</th>\n",
       "      <td>Yenə tezdən oyanmağa məcbur qaldım😶</td>\n",
       "      <td>mn</td>\n",
       "    </tr>\n",
       "    <tr>\n",
       "      <th>25</th>\n",
       "      <td>Gəlsəydi, baxardıq</td>\n",
       "      <td>n</td>\n",
       "    </tr>\n",
       "    <tr>\n",
       "      <th>26</th>\n",
       "      <td>Rəis hamı üçün tvit atır.Bir mən ncnc rəis gö...</td>\n",
       "      <td>mn</td>\n",
       "    </tr>\n",
       "    <tr>\n",
       "      <th>27</th>\n",
       "      <td>Bir gün hamınız Cəmili dərk edəcəksiniz.</td>\n",
       "      <td>n</td>\n",
       "    </tr>\n",
       "    <tr>\n",
       "      <th>28</th>\n",
       "      <td>Abrikozdu da blət.</td>\n",
       "      <td>ms</td>\n",
       "    </tr>\n",
       "    <tr>\n",
       "      <th>29</th>\n",
       "      <td>- Formula 1 də Könullüsən ? \\n+ Yo biz fəhlayüy</td>\n",
       "      <td>ms</td>\n",
       "    </tr>\n",
       "  </tbody>\n",
       "</table>\n",
       "</div>"
      ],
      "text/plain": [
       "                                                 Text Sentiment\n",
       "0    Dua Lipa Bakini unutdu bizimkiler onun videol...        mn\n",
       "1                         Adam bir nəfəri stalklıyar)        mn\n",
       "2                               məni stalklıyan yoxdu         n\n",
       "3             nəysə yatıram sabah çoxlu mesaj gələcəy         n\n",
       "4    Mən də dərdimi sənə danışım. Dinləyərsən?Mənd...        ms\n",
       "5                                Kim yatmış kim oyaq?         n\n",
       "6    Adaptır qızdırır, istiliyini telefona telefon...         n\n",
       "7            Bu boyda Twitterdə təkcə mən oyağam ala?        mn\n",
       "8    Hər acıya adı ilə ümüd verən Allah'a həmd ols...        ms\n",
       "9    Allah hiç yorulmadan ve sıkılmadan an be an h...        ms\n",
       "10   Tarix.. 17 iyun 1993-cü il . Milli Məclisdə İ...         n\n",
       "11   Retweeted Rufat Bakhishbeyli 17 iyun 1993-cü ...         n\n",
       "12                             Təşəkkür edirem Zeynep         n\n",
       "13   Birini unutmağın, birini sile bilmenin verdiy...        mn\n",
       "14      Assalamun Aleykum. Sabahınız xeyirlə açılsın.        ms\n",
       "15           -Direcktda yazırlar a bala, çox məşqulam         n\n",
       "16             Bizimki yaşayış deyil Ay Kələntər dayı        mn\n",
       "17   Vaxt var idi SSRİ-də 1 mayı elə həsrətlə gözl...        mn\n",
       "18   Insta'da online çanta satışı səhifəsi var,hər...         n\n",
       "19   Ermənistan bu gün baş nazirini seçəcək. Çox g...         n\n",
       "20   Səhər 6da oyanib 8də işdə olanlar var.Şükür elə😉         n\n",
       "21     Acı təcrübələrlə öyrəndim ki, məndə o yaş 23dü        mn\n",
       "22                             Azərbaycanlılar yeyir.        mn\n",
       "23   Qayıb limitimi istifadə eləməsəydim indi yati...        mn\n",
       "24                Yenə tezdən oyanmağa məcbur qaldım😶        mn\n",
       "25                                 Gəlsəydi, baxardıq         n\n",
       "26   Rəis hamı üçün tvit atır.Bir mən ncnc rəis gö...        mn\n",
       "27           Bir gün hamınız Cəmili dərk edəcəksiniz.         n\n",
       "28                                 Abrikozdu da blət.        ms\n",
       "29    - Formula 1 də Könullüsən ? \\n+ Yo biz fəhlayüy        ms"
      ]
     },
     "execution_count": 118,
     "metadata": {},
     "output_type": "execute_result"
    }
   ],
   "source": [
    "data_j_aze =[]\n",
    "\n",
    "for index, row in n_data_j.iterrows(): \n",
    "    text = n_data_j.iloc[index]\n",
    "    if (n_data_j['Language'][index] == 'a'):\n",
    "        data_j_aze.append(text)\n",
    "\n",
    "\n",
    "data_j_aze = pd.DataFrame(data=data_j_aze)\n",
    "\n",
    "data_j_aze = data_j_aze.reset_index(drop=True)\n",
    "\n",
    "data_j_aze = data_j_aze.drop(columns=['Language'])\n",
    "\n",
    "data_j_aze.to_csv('javid_filtered.csv', encoding = 'utf8')\n",
    "\n",
    "data_j_aze.head(30)"
   ]
  },
  {
   "cell_type": "code",
   "execution_count": 119,
   "metadata": {},
   "outputs": [],
   "source": [
    "cv_javid_2 = CountVectorizer()\n",
    "train_cv_j_2 = cv_javid_2.fit_transform(data_j_aze['Text'].values.astype('U'))"
   ]
  },
  {
   "cell_type": "code",
   "execution_count": 229,
   "metadata": {},
   "outputs": [
    {
     "name": "stdout",
     "output_type": "stream",
     "text": [
      "              precision    recall  f1-score   support\n",
      "\n",
      "          mn       0.00      0.00      0.00        50\n",
      "          ms       0.50      0.03      0.05        35\n",
      "           n       0.72      1.00      0.84       214\n",
      "\n",
      "    accuracy                           0.72       299\n",
      "   macro avg       0.41      0.34      0.30       299\n",
      "weighted avg       0.57      0.72      0.60       299\n",
      "\n"
     ]
    }
   ],
   "source": [
    "x_train_j_sen_2, x_test_j_sen_2, y_train_j_sen_2, y_test_j_sen_2 = train_test_split(train_cv_j_2, data_j_aze['Sentiment'], test_size=0.2, random_state=5)\n",
    "\n",
    "svc_j_sen_2 = SVC(kernel = 'rbf', gamma='scale', random_state = 1)\n",
    "svc_j_sen_2.fit(x_train_j_sen_2, y_train_j_sen_2)\n",
    "\n",
    "pred_j_sen_2 = svc_j_sen_2.predict(x_test_j_sen_2)\n",
    "\n",
    "print(classification_report(y_test_j_sen_2,pred_j_sen_2))"
   ]
  },
  {
   "cell_type": "markdown",
   "metadata": {},
   "source": [
    "## filtering orkhan "
   ]
  },
  {
   "cell_type": "code",
   "execution_count": 143,
   "metadata": {},
   "outputs": [
    {
     "data": {
      "text/html": [
       "<div>\n",
       "<style scoped>\n",
       "    .dataframe tbody tr th:only-of-type {\n",
       "        vertical-align: middle;\n",
       "    }\n",
       "\n",
       "    .dataframe tbody tr th {\n",
       "        vertical-align: top;\n",
       "    }\n",
       "\n",
       "    .dataframe thead th {\n",
       "        text-align: right;\n",
       "    }\n",
       "</style>\n",
       "<table border=\"1\" class=\"dataframe\">\n",
       "  <thead>\n",
       "    <tr style=\"text-align: right;\">\n",
       "      <th></th>\n",
       "      <th>Full Text</th>\n",
       "      <th>User DTO</th>\n",
       "      <th>User Name</th>\n",
       "      <th>User Location</th>\n",
       "      <th>Language</th>\n",
       "      <th>Hashtags</th>\n",
       "      <th>Tweet Local Creation Date</th>\n",
       "      <th>Created At</th>\n",
       "      <th>Sentiment</th>\n",
       "      <th>Language.1</th>\n",
       "    </tr>\n",
       "  </thead>\n",
       "  <tbody>\n",
       "    <tr>\n",
       "      <th>0</th>\n",
       "      <td>Giresun /Bulancak ilçesi'nde yaşayan 86 yaşınd...</td>\n",
       "      <td>ShukurMr</td>\n",
       "      <td>Shukur29 Almirzoyeffشك</td>\n",
       "      <td>Baku</td>\n",
       "      <td>Turkish</td>\n",
       "      <td>NaN</td>\n",
       "      <td>2018-01-29 17:36:37</td>\n",
       "      <td>2018-01-27 11:33:04</td>\n",
       "      <td>NaN</td>\n",
       "      <td>t</td>\n",
       "    </tr>\n",
       "    <tr>\n",
       "      <th>1</th>\n",
       "      <td>RT @elmanelektrik: @idurumukarisik Bakudan biz...</td>\n",
       "      <td>fehollpipa1983</td>\n",
       "      <td>Simone Stephenson</td>\n",
       "      <td>NaN</td>\n",
       "      <td>Turkish</td>\n",
       "      <td>NaN</td>\n",
       "      <td>2018-01-29 17:36:37</td>\n",
       "      <td>2018-01-27 11:31:57</td>\n",
       "      <td>NaN</td>\n",
       "      <td>t</td>\n",
       "    </tr>\n",
       "    <tr>\n",
       "      <th>2</th>\n",
       "      <td>@zekikayahan Türkiyenin tüm ciddi, okunur ve ü...</td>\n",
       "      <td>AGALAROGLU</td>\n",
       "      <td>Məhərrəm AĞALAROĞLU</td>\n",
       "      <td>Bakı</td>\n",
       "      <td>Turkish</td>\n",
       "      <td>NaN</td>\n",
       "      <td>2018-01-29 17:36:37</td>\n",
       "      <td>2018-01-27 11:31:34</td>\n",
       "      <td>NaN</td>\n",
       "      <td>t</td>\n",
       "    </tr>\n",
       "    <tr>\n",
       "      <th>3</th>\n",
       "      <td>@nurtac_quliyeva Onda Allah köməyin olsun. Özü...</td>\n",
       "      <td>ibnxanlar</td>\n",
       "      <td>Anar Əli</td>\n",
       "      <td>Baku, Azerbaijan</td>\n",
       "      <td>Turkish</td>\n",
       "      <td>NaN</td>\n",
       "      <td>2018-01-29 17:36:37</td>\n",
       "      <td>2018-01-27 11:31:32</td>\n",
       "      <td>neytral</td>\n",
       "      <td>NaN</td>\n",
       "    </tr>\n",
       "    <tr>\n",
       "      <th>4</th>\n",
       "      <td>Asker şehit olurken ses , soluk yok. Terörist ...</td>\n",
       "      <td>ShukurMr</td>\n",
       "      <td>Shukur29 Almirzoyeffشك</td>\n",
       "      <td>Baku</td>\n",
       "      <td>Turkish</td>\n",
       "      <td>NaN</td>\n",
       "      <td>2018-01-29 17:36:37</td>\n",
       "      <td>2018-01-27 11:31:02</td>\n",
       "      <td>NaN</td>\n",
       "      <td>t</td>\n",
       "    </tr>\n",
       "  </tbody>\n",
       "</table>\n",
       "</div>"
      ],
      "text/plain": [
       "                                           Full Text        User DTO  \\\n",
       "0  Giresun /Bulancak ilçesi'nde yaşayan 86 yaşınd...        ShukurMr   \n",
       "1  RT @elmanelektrik: @idurumukarisik Bakudan biz...  fehollpipa1983   \n",
       "2  @zekikayahan Türkiyenin tüm ciddi, okunur ve ü...      AGALAROGLU   \n",
       "3  @nurtac_quliyeva Onda Allah köməyin olsun. Özü...       ibnxanlar   \n",
       "4  Asker şehit olurken ses , soluk yok. Terörist ...        ShukurMr   \n",
       "\n",
       "                User Name     User Location Language Hashtags  \\\n",
       "0  Shukur29 Almirzoyeffشك              Baku  Turkish      NaN   \n",
       "1       Simone Stephenson               NaN  Turkish      NaN   \n",
       "2     Məhərrəm AĞALAROĞLU              Bakı  Turkish      NaN   \n",
       "3                Anar Əli  Baku, Azerbaijan  Turkish      NaN   \n",
       "4  Shukur29 Almirzoyeffشك              Baku  Turkish      NaN   \n",
       "\n",
       "  Tweet Local Creation Date          Created At Sentiment Language.1  \n",
       "0       2018-01-29 17:36:37 2018-01-27 11:33:04       NaN          t  \n",
       "1       2018-01-29 17:36:37 2018-01-27 11:31:57       NaN          t  \n",
       "2       2018-01-29 17:36:37 2018-01-27 11:31:34       NaN          t  \n",
       "3       2018-01-29 17:36:37 2018-01-27 11:31:32   neytral        NaN  \n",
       "4       2018-01-29 17:36:37 2018-01-27 11:31:02       NaN          t  "
      ]
     },
     "execution_count": 143,
     "metadata": {},
     "output_type": "execute_result"
    }
   ],
   "source": [
    "data_o = pd.read_excel(\"processed_Orkhan.xlsx\", encoding='utf8')\n",
    "data_o.head()\n",
    "\n"
   ]
  },
  {
   "cell_type": "code",
   "execution_count": 144,
   "metadata": {},
   "outputs": [
    {
     "data": {
      "text/html": [
       "<div>\n",
       "<style scoped>\n",
       "    .dataframe tbody tr th:only-of-type {\n",
       "        vertical-align: middle;\n",
       "    }\n",
       "\n",
       "    .dataframe tbody tr th {\n",
       "        vertical-align: top;\n",
       "    }\n",
       "\n",
       "    .dataframe thead th {\n",
       "        text-align: right;\n",
       "    }\n",
       "</style>\n",
       "<table border=\"1\" class=\"dataframe\">\n",
       "  <thead>\n",
       "    <tr style=\"text-align: right;\">\n",
       "      <th></th>\n",
       "      <th>Text</th>\n",
       "      <th>Sentiment</th>\n",
       "      <th>Language</th>\n",
       "    </tr>\n",
       "  </thead>\n",
       "  <tbody>\n",
       "    <tr>\n",
       "      <th>0</th>\n",
       "      <td>Giresun /Bulancak ilçesi'nde yaşayan 86 yaşınd...</td>\n",
       "      <td>NaN</td>\n",
       "      <td>t</td>\n",
       "    </tr>\n",
       "    <tr>\n",
       "      <th>1</th>\n",
       "      <td>RT @elmanelektrik: @idurumukarisik Bakudan biz...</td>\n",
       "      <td>NaN</td>\n",
       "      <td>t</td>\n",
       "    </tr>\n",
       "    <tr>\n",
       "      <th>2</th>\n",
       "      <td>@zekikayahan Türkiyenin tüm ciddi, okunur ve ü...</td>\n",
       "      <td>NaN</td>\n",
       "      <td>t</td>\n",
       "    </tr>\n",
       "    <tr>\n",
       "      <th>3</th>\n",
       "      <td>@nurtac_quliyeva Onda Allah köməyin olsun. Özü...</td>\n",
       "      <td>neytral</td>\n",
       "      <td>NaN</td>\n",
       "    </tr>\n",
       "    <tr>\n",
       "      <th>4</th>\n",
       "      <td>Asker şehit olurken ses , soluk yok. Terörist ...</td>\n",
       "      <td>NaN</td>\n",
       "      <td>t</td>\n",
       "    </tr>\n",
       "  </tbody>\n",
       "</table>\n",
       "</div>"
      ],
      "text/plain": [
       "                                                Text Sentiment Language\n",
       "0  Giresun /Bulancak ilçesi'nde yaşayan 86 yaşınd...       NaN        t\n",
       "1  RT @elmanelektrik: @idurumukarisik Bakudan biz...       NaN        t\n",
       "2  @zekikayahan Türkiyenin tüm ciddi, okunur ve ü...       NaN        t\n",
       "3  @nurtac_quliyeva Onda Allah köməyin olsun. Özü...   neytral      NaN\n",
       "4  Asker şehit olurken ses , soluk yok. Terörist ...       NaN        t"
      ]
     },
     "execution_count": 144,
     "metadata": {},
     "output_type": "execute_result"
    }
   ],
   "source": [
    "text = data_o['Full Text']\n",
    "sentiment = data_o['Sentiment']\n",
    "language = data_o['Language.1']\n",
    "\n",
    "n_data = {'Text':text, 'Sentiment': sentiment, 'Language': language}\n",
    "n_data_o = pd.DataFrame(data=n_data)\n",
    "\n",
    "n_data_o.head()\n",
    "\n"
   ]
  },
  {
   "cell_type": "code",
   "execution_count": 145,
   "metadata": {},
   "outputs": [],
   "source": [
    "n_data_o['Language'] = n_data_o['Language'].fillna(value='az')"
   ]
  },
  {
   "cell_type": "code",
   "execution_count": 146,
   "metadata": {},
   "outputs": [],
   "source": [
    "n_data_o['Sentiment'] = 0"
   ]
  },
  {
   "cell_type": "code",
   "execution_count": 147,
   "metadata": {},
   "outputs": [
    {
     "data": {
      "text/html": [
       "<div>\n",
       "<style scoped>\n",
       "    .dataframe tbody tr th:only-of-type {\n",
       "        vertical-align: middle;\n",
       "    }\n",
       "\n",
       "    .dataframe tbody tr th {\n",
       "        vertical-align: top;\n",
       "    }\n",
       "\n",
       "    .dataframe thead th {\n",
       "        text-align: right;\n",
       "    }\n",
       "</style>\n",
       "<table border=\"1\" class=\"dataframe\">\n",
       "  <thead>\n",
       "    <tr style=\"text-align: right;\">\n",
       "      <th></th>\n",
       "      <th>Text</th>\n",
       "      <th>Sentiment</th>\n",
       "      <th>Language</th>\n",
       "    </tr>\n",
       "  </thead>\n",
       "  <tbody>\n",
       "    <tr>\n",
       "      <th>0</th>\n",
       "      <td>Giresun /Bulancak ilçesi'nde yaşayan 86 yaşınd...</td>\n",
       "      <td>0</td>\n",
       "      <td>t</td>\n",
       "    </tr>\n",
       "    <tr>\n",
       "      <th>1</th>\n",
       "      <td>RT @elmanelektrik: @idurumukarisik Bakudan biz...</td>\n",
       "      <td>0</td>\n",
       "      <td>t</td>\n",
       "    </tr>\n",
       "    <tr>\n",
       "      <th>2</th>\n",
       "      <td>@zekikayahan Türkiyenin tüm ciddi, okunur ve ü...</td>\n",
       "      <td>0</td>\n",
       "      <td>t</td>\n",
       "    </tr>\n",
       "    <tr>\n",
       "      <th>3</th>\n",
       "      <td>@nurtac_quliyeva Onda Allah köməyin olsun. Özü...</td>\n",
       "      <td>0</td>\n",
       "      <td>az</td>\n",
       "    </tr>\n",
       "    <tr>\n",
       "      <th>4</th>\n",
       "      <td>Asker şehit olurken ses , soluk yok. Terörist ...</td>\n",
       "      <td>0</td>\n",
       "      <td>t</td>\n",
       "    </tr>\n",
       "  </tbody>\n",
       "</table>\n",
       "</div>"
      ],
      "text/plain": [
       "                                                Text  Sentiment Language\n",
       "0  Giresun /Bulancak ilçesi'nde yaşayan 86 yaşınd...          0        t\n",
       "1  RT @elmanelektrik: @idurumukarisik Bakudan biz...          0        t\n",
       "2  @zekikayahan Türkiyenin tüm ciddi, okunur ve ü...          0        t\n",
       "3  @nurtac_quliyeva Onda Allah köməyin olsun. Özü...          0       az\n",
       "4  Asker şehit olurken ses , soluk yok. Terörist ...          0        t"
      ]
     },
     "execution_count": 147,
     "metadata": {},
     "output_type": "execute_result"
    }
   ],
   "source": [
    "n_data_o.head()"
   ]
  },
  {
   "cell_type": "code",
   "execution_count": 149,
   "metadata": {},
   "outputs": [
    {
     "data": {
      "text/html": [
       "<div>\n",
       "<style scoped>\n",
       "    .dataframe tbody tr th:only-of-type {\n",
       "        vertical-align: middle;\n",
       "    }\n",
       "\n",
       "    .dataframe tbody tr th {\n",
       "        vertical-align: top;\n",
       "    }\n",
       "\n",
       "    .dataframe thead th {\n",
       "        text-align: right;\n",
       "    }\n",
       "</style>\n",
       "<table border=\"1\" class=\"dataframe\">\n",
       "  <thead>\n",
       "    <tr style=\"text-align: right;\">\n",
       "      <th></th>\n",
       "      <th>Text</th>\n",
       "      <th>Sentiment</th>\n",
       "    </tr>\n",
       "  </thead>\n",
       "  <tbody>\n",
       "    <tr>\n",
       "      <th>0</th>\n",
       "      <td>@nurtac_quliyeva Onda Allah köməyin olsun. Özü...</td>\n",
       "      <td>0</td>\n",
       "    </tr>\n",
       "    <tr>\n",
       "      <th>1</th>\n",
       "      <td>@Romansonroma123 uzaq olacaq 🔋 enerjim tükənər 🙄</td>\n",
       "      <td>0</td>\n",
       "    </tr>\n",
       "    <tr>\n",
       "      <th>2</th>\n",
       "      <td>'Cinemaplus Xəmsə'də 'Kəklikotu'nun möhtəşəm i...</td>\n",
       "      <td>0</td>\n",
       "    </tr>\n",
       "    <tr>\n",
       "      <th>3</th>\n",
       "      <td>@MissV_A mən qalın geyinmişəm, üşümürəm 🤓</td>\n",
       "      <td>0</td>\n",
       "    </tr>\n",
       "    <tr>\n",
       "      <th>4</th>\n",
       "      <td>AĞDAM TƏHSİLİNDƏN 'ƏXLAQ VƏ MƏDƏNİYYƏT SƏVİYYƏ...</td>\n",
       "      <td>0</td>\n",
       "    </tr>\n",
       "    <tr>\n",
       "      <th>5</th>\n",
       "      <td>ATƏT PA-nın prezidenti Cənubi Qafqazdakı həlli...</td>\n",
       "      <td>0</td>\n",
       "    </tr>\n",
       "    <tr>\n",
       "      <th>6</th>\n",
       "      <td>stories yükleyirsen da, demeli yaxshisan, soru...</td>\n",
       "      <td>0</td>\n",
       "    </tr>\n",
       "    <tr>\n",
       "      <th>7</th>\n",
       "      <td>Bəlkə bir gün.....\\n\\nDavamını tamamlayın :)</td>\n",
       "      <td>0</td>\n",
       "    </tr>\n",
       "    <tr>\n",
       "      <th>8</th>\n",
       "      <td>Ürəyimdən tikan çıxdı :D https://t.co/X5j9mIHdFv</td>\n",
       "      <td>0</td>\n",
       "    </tr>\n",
       "    <tr>\n",
       "      <th>9</th>\n",
       "      <td>🚶 @ Baki Bulvarı https://t.co/pZlZ4q13mD</td>\n",
       "      <td>0</td>\n",
       "    </tr>\n",
       "    <tr>\n",
       "      <th>10</th>\n",
       "      <td>Azərbaycanın psixdispanserlərinin birindən Kan...</td>\n",
       "      <td>0</td>\n",
       "    </tr>\n",
       "    <tr>\n",
       "      <th>11</th>\n",
       "      <td>Sə ətağa bunu ərə verin getsin. https://t.co/h...</td>\n",
       "      <td>0</td>\n",
       "    </tr>\n",
       "    <tr>\n",
       "      <th>12</th>\n",
       "      <td>Azərbaycanda 24 yaşlı gəncdən dəhşətli addım\\n...</td>\n",
       "      <td>0</td>\n",
       "    </tr>\n",
       "    <tr>\n",
       "      <th>13</th>\n",
       "      <td>@nurtac_quliyeva dərslərə girməyərək )</td>\n",
       "      <td>0</td>\n",
       "    </tr>\n",
       "    <tr>\n",
       "      <th>14</th>\n",
       "      <td>19 yaşlı Aygün tualetdə doğduğu körpəsini öldü...</td>\n",
       "      <td>0</td>\n",
       "    </tr>\n",
       "    <tr>\n",
       "      <th>15</th>\n",
       "      <td>Aygün Kazımovanın mediaya qapalı olan ad günün...</td>\n",
       "      <td>0</td>\n",
       "    </tr>\n",
       "    <tr>\n",
       "      <th>16</th>\n",
       "      <td>Roza Zərgərli kitabına imza günü keçirdi\\nhttp...</td>\n",
       "      <td>0</td>\n",
       "    </tr>\n",
       "    <tr>\n",
       "      <th>17</th>\n",
       "      <td>RT @nigareliqizi: Bir qohum vardi, qinayirdim ...</td>\n",
       "      <td>0</td>\n",
       "    </tr>\n",
       "    <tr>\n",
       "      <th>18</th>\n",
       "      <td>RT @ifrite_: Dadın damağımdadır...</td>\n",
       "      <td>0</td>\n",
       "    </tr>\n",
       "    <tr>\n",
       "      <th>19</th>\n",
       "      <td>@IzmanAliyev Çalışıram daa tapmağa.Amma tapa b...</td>\n",
       "      <td>0</td>\n",
       "    </tr>\n",
       "    <tr>\n",
       "      <th>20</th>\n",
       "      <td>Qarın yağdığını Twitterdən öyrəndim.</td>\n",
       "      <td>0</td>\n",
       "    </tr>\n",
       "    <tr>\n",
       "      <th>21</th>\n",
       "      <td>FHN partlayışla əlaqədar rəsmi məlumat yayıb h...</td>\n",
       "      <td>0</td>\n",
       "    </tr>\n",
       "    <tr>\n",
       "      <th>22</th>\n",
       "      <td>RT @Wefeqm: Camaat Yasamalda qar topu oynur.Ye...</td>\n",
       "      <td>0</td>\n",
       "    </tr>\n",
       "    <tr>\n",
       "      <th>23</th>\n",
       "      <td>Gözyaşardıcı qar.</td>\n",
       "      <td>0</td>\n",
       "    </tr>\n",
       "    <tr>\n",
       "      <th>24</th>\n",
       "      <td>Emilin cool'luğunun yanında çox sönük qaldım:D...</td>\n",
       "      <td>0</td>\n",
       "    </tr>\n",
       "    <tr>\n",
       "      <th>25</th>\n",
       "      <td>o boyda yol gələsən ki qarda gəzəsən ama burda...</td>\n",
       "      <td>0</td>\n",
       "    </tr>\n",
       "    <tr>\n",
       "      <th>26</th>\n",
       "      <td>Dünya birjalarında neftin qiyməti\\nhttps://t.c...</td>\n",
       "      <td>0</td>\n",
       "    </tr>\n",
       "    <tr>\n",
       "      <th>27</th>\n",
       "      <td>Papua - Yeni Qvineya sahillərində 6,3 bal gücü...</td>\n",
       "      <td>0</td>\n",
       "    </tr>\n",
       "    <tr>\n",
       "      <th>28</th>\n",
       "      <td>Rusiya ABŞ-ın Şimali Koreyaya qarşı birtərəfli...</td>\n",
       "      <td>0</td>\n",
       "    </tr>\n",
       "    <tr>\n",
       "      <th>29</th>\n",
       "      <td>Bu gün dövlət qulluğuna qəbul üçün test imtaha...</td>\n",
       "      <td>0</td>\n",
       "    </tr>\n",
       "  </tbody>\n",
       "</table>\n",
       "</div>"
      ],
      "text/plain": [
       "                                                 Text  Sentiment\n",
       "0   @nurtac_quliyeva Onda Allah köməyin olsun. Özü...          0\n",
       "1    @Romansonroma123 uzaq olacaq 🔋 enerjim tükənər 🙄          0\n",
       "2   'Cinemaplus Xəmsə'də 'Kəklikotu'nun möhtəşəm i...          0\n",
       "3           @MissV_A mən qalın geyinmişəm, üşümürəm 🤓          0\n",
       "4   AĞDAM TƏHSİLİNDƏN 'ƏXLAQ VƏ MƏDƏNİYYƏT SƏVİYYƏ...          0\n",
       "5   ATƏT PA-nın prezidenti Cənubi Qafqazdakı həlli...          0\n",
       "6   stories yükleyirsen da, demeli yaxshisan, soru...          0\n",
       "7        Bəlkə bir gün.....\\n\\nDavamını tamamlayın :)          0\n",
       "8    Ürəyimdən tikan çıxdı :D https://t.co/X5j9mIHdFv          0\n",
       "9            🚶 @ Baki Bulvarı https://t.co/pZlZ4q13mD          0\n",
       "10  Azərbaycanın psixdispanserlərinin birindən Kan...          0\n",
       "11  Sə ətağa bunu ərə verin getsin. https://t.co/h...          0\n",
       "12  Azərbaycanda 24 yaşlı gəncdən dəhşətli addım\\n...          0\n",
       "13             @nurtac_quliyeva dərslərə girməyərək )          0\n",
       "14  19 yaşlı Aygün tualetdə doğduğu körpəsini öldü...          0\n",
       "15  Aygün Kazımovanın mediaya qapalı olan ad günün...          0\n",
       "16  Roza Zərgərli kitabına imza günü keçirdi\\nhttp...          0\n",
       "17  RT @nigareliqizi: Bir qohum vardi, qinayirdim ...          0\n",
       "18                 RT @ifrite_: Dadın damağımdadır...          0\n",
       "19  @IzmanAliyev Çalışıram daa tapmağa.Amma tapa b...          0\n",
       "20               Qarın yağdığını Twitterdən öyrəndim.          0\n",
       "21  FHN partlayışla əlaqədar rəsmi məlumat yayıb h...          0\n",
       "22  RT @Wefeqm: Camaat Yasamalda qar topu oynur.Ye...          0\n",
       "23                                  Gözyaşardıcı qar.          0\n",
       "24  Emilin cool'luğunun yanında çox sönük qaldım:D...          0\n",
       "25  o boyda yol gələsən ki qarda gəzəsən ama burda...          0\n",
       "26  Dünya birjalarında neftin qiyməti\\nhttps://t.c...          0\n",
       "27  Papua - Yeni Qvineya sahillərində 6,3 bal gücü...          0\n",
       "28  Rusiya ABŞ-ın Şimali Koreyaya qarşı birtərəfli...          0\n",
       "29  Bu gün dövlət qulluğuna qəbul üçün test imtaha...          0"
      ]
     },
     "execution_count": 149,
     "metadata": {},
     "output_type": "execute_result"
    }
   ],
   "source": [
    "data_o_aze =[]\n",
    "\n",
    "for index, row in n_data_o.iterrows(): \n",
    "    text = n_data_o.iloc[index]\n",
    "    if (n_data_o['Language'][index] == 'az'):\n",
    "        data_o_aze.append(text)\n",
    "\n",
    "\n",
    "data_o_aze = pd.DataFrame(data=data_o_aze)\n",
    "\n",
    "data_o_aze = data_o_aze.reset_index(drop=True)\n",
    "\n",
    "data_o_aze = data_o_aze.drop(columns=['Language'])\n",
    "\n",
    "data_o_aze.to_csv('orkhan_filtered.csv', encoding = 'utf8')\n",
    "\n",
    "data_o_aze.head(30)"
   ]
  },
  {
   "cell_type": "markdown",
   "metadata": {},
   "source": [
    "## Combining data"
   ]
  },
  {
   "cell_type": "code",
   "execution_count": 301,
   "metadata": {},
   "outputs": [],
   "source": [
    "data_1 = pd.read_csv(\"altun_filtered.csv\", encoding='utf8')\n",
    "data_3 = pd.read_csv(\"orkhan_filtered.csv\", encoding='utf8')\n",
    "data_2 = pd.read_csv(\"javid_filtered.csv\", encoding='utf8')"
   ]
  },
  {
   "cell_type": "code",
   "execution_count": 302,
   "metadata": {},
   "outputs": [],
   "source": [
    "data_1 = data_1.rename(columns={\"Full Text\": \"Text\"})"
   ]
  },
  {
   "cell_type": "code",
   "execution_count": 303,
   "metadata": {},
   "outputs": [],
   "source": [
    "merged_data = pd.concat([data_1, data_2, data_3])"
   ]
  },
  {
   "cell_type": "code",
   "execution_count": 304,
   "metadata": {},
   "outputs": [],
   "source": [
    "merged_data = pd.DataFrame(data=merged_data)"
   ]
  },
  {
   "cell_type": "code",
   "execution_count": 280,
   "metadata": {},
   "outputs": [
    {
     "data": {
      "text/html": [
       "<div>\n",
       "<style scoped>\n",
       "    .dataframe tbody tr th:only-of-type {\n",
       "        vertical-align: middle;\n",
       "    }\n",
       "\n",
       "    .dataframe tbody tr th {\n",
       "        vertical-align: top;\n",
       "    }\n",
       "\n",
       "    .dataframe thead th {\n",
       "        text-align: right;\n",
       "    }\n",
       "</style>\n",
       "<table border=\"1\" class=\"dataframe\">\n",
       "  <thead>\n",
       "    <tr style=\"text-align: right;\">\n",
       "      <th></th>\n",
       "      <th>Unnamed: 0</th>\n",
       "      <th>Text</th>\n",
       "      <th>Sentiment</th>\n",
       "    </tr>\n",
       "  </thead>\n",
       "  <tbody>\n",
       "    <tr>\n",
       "      <th>0</th>\n",
       "      <td>0</td>\n",
       "      <td>@gunnersamir11 @HandofHenry Yo biz qoymuşuğğ b...</td>\n",
       "      <td>ne</td>\n",
       "    </tr>\n",
       "    <tr>\n",
       "      <th>1</th>\n",
       "      <td>1</td>\n",
       "      <td>Leo Messi'nin mükəmməl cərimə zərbəsinin Camp ...</td>\n",
       "      <td>ne</td>\n",
       "    </tr>\n",
       "    <tr>\n",
       "      <th>2</th>\n",
       "      <td>2</td>\n",
       "      <td>@HandofHenry @gunnersamir11 babat soxariq burd...</td>\n",
       "      <td>ne</td>\n",
       "    </tr>\n",
       "    <tr>\n",
       "      <th>3</th>\n",
       "      <td>3</td>\n",
       "      <td>Qardaşımın məktəbdə yaşadığı 1 günü mənim 1 sm...</td>\n",
       "      <td>mu</td>\n",
       "    </tr>\n",
       "    <tr>\n",
       "      <th>4</th>\n",
       "      <td>4</td>\n",
       "      <td>@EFidaska Axirincini gozel dedin)</td>\n",
       "      <td>mu</td>\n",
       "    </tr>\n",
       "  </tbody>\n",
       "</table>\n",
       "</div>"
      ],
      "text/plain": [
       "   Unnamed: 0                                               Text Sentiment\n",
       "0           0  @gunnersamir11 @HandofHenry Yo biz qoymuşuğğ b...        ne\n",
       "1           1  Leo Messi'nin mükəmməl cərimə zərbəsinin Camp ...        ne\n",
       "2           2  @HandofHenry @gunnersamir11 babat soxariq burd...        ne\n",
       "3           3  Qardaşımın məktəbdə yaşadığı 1 günü mənim 1 sm...        mu\n",
       "4           4                  @EFidaska Axirincini gozel dedin)        mu"
      ]
     },
     "execution_count": 280,
     "metadata": {},
     "output_type": "execute_result"
    }
   ],
   "source": [
    "merged_data.head()"
   ]
  },
  {
   "cell_type": "code",
   "execution_count": 305,
   "metadata": {},
   "outputs": [],
   "source": [
    "merged_data = merged_data.filter(['Text', 'Sentiment'])"
   ]
  },
  {
   "cell_type": "code",
   "execution_count": 282,
   "metadata": {},
   "outputs": [
    {
     "data": {
      "text/plain": [
       "array(['ne', 'mu', 'menfi', 0, 'mn', 'n', 'ms'], dtype=object)"
      ]
     },
     "execution_count": 282,
     "metadata": {},
     "output_type": "execute_result"
    }
   ],
   "source": [
    "merged_data.Sentiment.unique()"
   ]
  },
  {
   "cell_type": "code",
   "execution_count": 306,
   "metadata": {},
   "outputs": [],
   "source": [
    "for index, row in merged_data.iterrows(): \n",
    "    merged_data.Sentiment[index] = merged_data.Sentiment[index].replace('ne', 'n')\n",
    "    merged_data.Sentiment[index] = merged_data.Sentiment[index].replace('mu', 'positive')\n",
    "    merged_data.Sentiment[index] = merged_data.Sentiment[index].replace('ms', 'positive')\n",
    "    merged_data.Sentiment[index] = merged_data.Sentiment[index].replace('menfi', 'negative')\n",
    "    merged_data.Sentiment[index] = merged_data.Sentiment[index].replace('mn', 'negative')"
   ]
  },
  {
   "cell_type": "code",
   "execution_count": 309,
   "metadata": {},
   "outputs": [],
   "source": [
    "for index, row in merged_data.iterrows(): \n",
    "    merged_data.Sentiment[index] = merged_data.Sentiment[index].replace('neutralegative', 'neutral')"
   ]
  },
  {
   "cell_type": "code",
   "execution_count": 310,
   "metadata": {},
   "outputs": [
    {
     "data": {
      "text/plain": [
       "array(['neutral', 'positive', 'negative', 0], dtype=object)"
      ]
     },
     "execution_count": 310,
     "metadata": {},
     "output_type": "execute_result"
    }
   ],
   "source": [
    "merged_data.Sentiment.unique()"
   ]
  },
  {
   "cell_type": "code",
   "execution_count": 311,
   "metadata": {},
   "outputs": [],
   "source": [
    "merged_data = merged_data.reset_index(drop=True)"
   ]
  },
  {
   "cell_type": "code",
   "execution_count": 140,
   "metadata": {},
   "outputs": [],
   "source": [
    "merged_data.to_csv('merged_data.csv', encoding='utf8')"
   ]
  },
  {
   "cell_type": "markdown",
   "metadata": {},
   "source": [
    "## Predicting sentiment of all data based on manually filtered data"
   ]
  },
  {
   "cell_type": "code",
   "execution_count": 26,
   "metadata": {},
   "outputs": [],
   "source": [
    "merged_data = pd.read_csv(\"merged_data.csv\", encoding='utf8')"
   ]
  },
  {
   "cell_type": "code",
   "execution_count": 27,
   "metadata": {},
   "outputs": [],
   "source": [
    "merged_data = merged_data.reset_index(drop=True)"
   ]
  },
  {
   "cell_type": "code",
   "execution_count": 31,
   "metadata": {},
   "outputs": [],
   "source": [
    "merged_data = merged_data.drop(merged_data.columns[merged_data.columns.str.contains('unnamed',case = False)], axis=1)"
   ]
  },
  {
   "cell_type": "code",
   "execution_count": 32,
   "metadata": {},
   "outputs": [
    {
     "data": {
      "text/html": [
       "<div>\n",
       "<style scoped>\n",
       "    .dataframe tbody tr th:only-of-type {\n",
       "        vertical-align: middle;\n",
       "    }\n",
       "\n",
       "    .dataframe tbody tr th {\n",
       "        vertical-align: top;\n",
       "    }\n",
       "\n",
       "    .dataframe thead th {\n",
       "        text-align: right;\n",
       "    }\n",
       "</style>\n",
       "<table border=\"1\" class=\"dataframe\">\n",
       "  <thead>\n",
       "    <tr style=\"text-align: right;\">\n",
       "      <th></th>\n",
       "      <th>Text</th>\n",
       "      <th>Sentiment</th>\n",
       "    </tr>\n",
       "  </thead>\n",
       "  <tbody>\n",
       "    <tr>\n",
       "      <th>0</th>\n",
       "      <td>@gunnersamir11 @HandofHenry Yo biz qoymuşuğğ b...</td>\n",
       "      <td>neutral</td>\n",
       "    </tr>\n",
       "    <tr>\n",
       "      <th>1</th>\n",
       "      <td>Leo Messi'nin mükəmməl cərimə zərbəsinin Camp ...</td>\n",
       "      <td>neutral</td>\n",
       "    </tr>\n",
       "    <tr>\n",
       "      <th>2</th>\n",
       "      <td>@HandofHenry @gunnersamir11 babat soxariq burd...</td>\n",
       "      <td>neutral</td>\n",
       "    </tr>\n",
       "    <tr>\n",
       "      <th>3</th>\n",
       "      <td>Qardaşımın məktəbdə yaşadığı 1 günü mənim 1 sm...</td>\n",
       "      <td>positive</td>\n",
       "    </tr>\n",
       "    <tr>\n",
       "      <th>4</th>\n",
       "      <td>@EFidaska Axirincini gozel dedin)</td>\n",
       "      <td>positive</td>\n",
       "    </tr>\n",
       "  </tbody>\n",
       "</table>\n",
       "</div>"
      ],
      "text/plain": [
       "                                                Text Sentiment\n",
       "0  @gunnersamir11 @HandofHenry Yo biz qoymuşuğğ b...   neutral\n",
       "1  Leo Messi'nin mükəmməl cərimə zərbəsinin Camp ...   neutral\n",
       "2  @HandofHenry @gunnersamir11 babat soxariq burd...   neutral\n",
       "3  Qardaşımın məktəbdə yaşadığı 1 günü mənim 1 sm...  positive\n",
       "4                  @EFidaska Axirincini gozel dedin)  positive"
      ]
     },
     "execution_count": 32,
     "metadata": {},
     "output_type": "execute_result"
    }
   ],
   "source": [
    "merged_data.head()"
   ]
  },
  {
   "cell_type": "code",
   "execution_count": 33,
   "metadata": {},
   "outputs": [],
   "source": [
    "x_train_merged = merged_data.Text.iloc[:9065]\n",
    "x_test_merged = merged_data.Text.iloc[9065:]\n",
    "y_train_merged = merged_data.Sentiment.iloc[:9065]\n",
    "y_test_merged = merged_data.Sentiment.iloc[9065:]"
   ]
  },
  {
   "cell_type": "code",
   "execution_count": 34,
   "metadata": {},
   "outputs": [
    {
     "data": {
      "text/plain": [
       "0        neutral\n",
       "1        neutral\n",
       "2        neutral\n",
       "3       positive\n",
       "4       positive\n",
       "          ...   \n",
       "9060     neutral\n",
       "9061     neutral\n",
       "9062     neutral\n",
       "9063     neutral\n",
       "9064     neutral\n",
       "Name: Sentiment, Length: 9065, dtype: object"
      ]
     },
     "execution_count": 34,
     "metadata": {},
     "output_type": "execute_result"
    }
   ],
   "source": [
    "y_train_merged"
   ]
  },
  {
   "cell_type": "code",
   "execution_count": 53,
   "metadata": {},
   "outputs": [],
   "source": [
    "cv_m_sent = CountVectorizer()\n",
    "\n",
    "train_cv_m = cv_m_sent.fit_transform(x_train_merged)\n",
    "\n",
    "test_cv_m = cv_m_sent.transform(x_test_merged).toarray()"
   ]
  },
  {
   "cell_type": "code",
   "execution_count": 54,
   "metadata": {},
   "outputs": [
    {
     "data": {
      "text/plain": [
       "(4144, 29939)"
      ]
     },
     "execution_count": 54,
     "metadata": {},
     "output_type": "execute_result"
    }
   ],
   "source": [
    "test_cv_m.shape"
   ]
  },
  {
   "cell_type": "code",
   "execution_count": 55,
   "metadata": {},
   "outputs": [
    {
     "data": {
      "text/plain": [
       "(4144,)"
      ]
     },
     "execution_count": 55,
     "metadata": {},
     "output_type": "execute_result"
    }
   ],
   "source": [
    "y_test_merged.shape"
   ]
  },
  {
   "cell_type": "code",
   "execution_count": 56,
   "metadata": {},
   "outputs": [
    {
     "data": {
      "text/plain": [
       "(9065, 29939)"
      ]
     },
     "execution_count": 56,
     "metadata": {},
     "output_type": "execute_result"
    }
   ],
   "source": [
    "train_cv_m.shape"
   ]
  },
  {
   "cell_type": "code",
   "execution_count": 57,
   "metadata": {},
   "outputs": [
    {
     "data": {
      "text/plain": [
       "SVC(C=1.0, break_ties=False, cache_size=200, class_weight=None, coef0=0.0,\n",
       "    decision_function_shape='ovr', degree=3, gamma='scale', kernel='rbf',\n",
       "    max_iter=-1, probability=False, random_state=None, shrinking=True,\n",
       "    tol=0.001, verbose=False)"
      ]
     },
     "execution_count": 57,
     "metadata": {},
     "output_type": "execute_result"
    }
   ],
   "source": [
    "svc_m_sent = SVC()\n",
    "svc_m_sent.fit(train_cv_m, y_train_merged)\n"
   ]
  },
  {
   "cell_type": "code",
   "execution_count": 58,
   "metadata": {
    "scrolled": true
   },
   "outputs": [],
   "source": [
    "pred_m_sent = svc_m_sent.predict(test_cv_m)"
   ]
  },
  {
   "cell_type": "code",
   "execution_count": 59,
   "metadata": {},
   "outputs": [
    {
     "data": {
      "text/plain": [
       "array(['positive', 'neutral', 'neutral', ..., 'positive', 'neutral',\n",
       "       'neutral'], dtype=object)"
      ]
     },
     "execution_count": 59,
     "metadata": {},
     "output_type": "execute_result"
    }
   ],
   "source": [
    "pred_m_sent"
   ]
  },
  {
   "cell_type": "code",
   "execution_count": 60,
   "metadata": {},
   "outputs": [],
   "source": [
    "merged_data.Sentiment.iloc[9065:] = pred_m_sent"
   ]
  },
  {
   "cell_type": "code",
   "execution_count": 61,
   "metadata": {},
   "outputs": [
    {
     "data": {
      "text/plain": [
       "9065     positive\n",
       "9066      neutral\n",
       "9067      neutral\n",
       "9068      neutral\n",
       "9069      neutral\n",
       "           ...   \n",
       "13204     neutral\n",
       "13205     neutral\n",
       "13206    positive\n",
       "13207     neutral\n",
       "13208     neutral\n",
       "Name: Sentiment, Length: 4144, dtype: object"
      ]
     },
     "execution_count": 61,
     "metadata": {},
     "output_type": "execute_result"
    }
   ],
   "source": [
    "merged_data.Sentiment.iloc[9065:]"
   ]
  },
  {
   "cell_type": "markdown",
   "metadata": {},
   "source": [
    "## Accuracy without orkhan"
   ]
  },
  {
   "cell_type": "code",
   "execution_count": 62,
   "metadata": {},
   "outputs": [],
   "source": [
    "x_train_m, x_test_m, y_train_m, y_test_m = train_test_split(train_cv_m, y_train_merged, test_size=0.2, random_state=1)"
   ]
  },
  {
   "cell_type": "code",
   "execution_count": 63,
   "metadata": {},
   "outputs": [
    {
     "ename": "NameError",
     "evalue": "name 'x_train_m_2' is not defined",
     "output_type": "error",
     "traceback": [
      "\u001b[1;31m---------------------------------------------------------------------------\u001b[0m",
      "\u001b[1;31mNameError\u001b[0m                                 Traceback (most recent call last)",
      "\u001b[1;32m<ipython-input-63-da21944ab51e>\u001b[0m in \u001b[0;36m<module>\u001b[1;34m\u001b[0m\n\u001b[0;32m      1\u001b[0m \u001b[0msvc_m_sent_2\u001b[0m \u001b[1;33m=\u001b[0m \u001b[0mSVC\u001b[0m\u001b[1;33m(\u001b[0m\u001b[0mgamma\u001b[0m\u001b[1;33m=\u001b[0m\u001b[1;34m'scale'\u001b[0m\u001b[1;33m,\u001b[0m \u001b[0mrandom_state\u001b[0m \u001b[1;33m=\u001b[0m \u001b[1;36m1\u001b[0m\u001b[1;33m)\u001b[0m\u001b[1;33m\u001b[0m\u001b[1;33m\u001b[0m\u001b[0m\n\u001b[1;32m----> 2\u001b[1;33m \u001b[0msvc_m_sent_2\u001b[0m\u001b[1;33m.\u001b[0m\u001b[0mfit\u001b[0m\u001b[1;33m(\u001b[0m\u001b[0mx_train_m_2\u001b[0m\u001b[1;33m,\u001b[0m \u001b[0my_train_m_2\u001b[0m\u001b[1;33m)\u001b[0m\u001b[1;33m\u001b[0m\u001b[1;33m\u001b[0m\u001b[0m\n\u001b[0m",
      "\u001b[1;31mNameError\u001b[0m: name 'x_train_m_2' is not defined"
     ]
    }
   ],
   "source": [
    "svc_m_sent = SVC(gamma='scale', random_state = 1)\n",
    "svc_m_sent.fit(x_train_m, y_train_m)\n"
   ]
  },
  {
   "cell_type": "code",
   "execution_count": 378,
   "metadata": {},
   "outputs": [],
   "source": [
    "pred_m = svc_m_sent.predict(x_test_m)"
   ]
  },
  {
   "cell_type": "code",
   "execution_count": 379,
   "metadata": {
    "scrolled": true
   },
   "outputs": [
    {
     "name": "stdout",
     "output_type": "stream",
     "text": [
      "              precision    recall  f1-score   support\n",
      "\n",
      "    negative       0.60      0.02      0.03       168\n",
      "     neutral       0.79      0.99      0.88      1408\n",
      "    positive       0.76      0.14      0.23       237\n",
      "\n",
      "    accuracy                           0.79      1813\n",
      "   macro avg       0.72      0.38      0.38      1813\n",
      "weighted avg       0.77      0.79      0.72      1813\n",
      "\n"
     ]
    }
   ],
   "source": [
    "print(classification_report(y_test_m,pred_m))"
   ]
  },
  {
   "cell_type": "markdown",
   "metadata": {},
   "source": [
    "## Accuracy with orkhan"
   ]
  },
  {
   "cell_type": "code",
   "execution_count": 100,
   "metadata": {},
   "outputs": [],
   "source": [
    "x = merged_data.Text\n",
    "y = merged_data.Sentiment"
   ]
  },
  {
   "cell_type": "code",
   "execution_count": 101,
   "metadata": {},
   "outputs": [],
   "source": [
    "x_m_cv = CountVectorizer()\n",
    "x_m_cv_train = x_m_cv.fit_transform(x)"
   ]
  },
  {
   "cell_type": "code",
   "execution_count": 102,
   "metadata": {},
   "outputs": [
    {
     "data": {
      "text/plain": [
       "SVC(C=1.0, break_ties=False, cache_size=200, class_weight=None, coef0=0.0,\n",
       "    decision_function_shape='ovr', degree=3, gamma='scale', kernel='rbf',\n",
       "    max_iter=-1, probability=False, random_state=1, shrinking=True, tol=0.001,\n",
       "    verbose=False)"
      ]
     },
     "execution_count": 102,
     "metadata": {},
     "output_type": "execute_result"
    }
   ],
   "source": [
    "x_train_m_2, x_test_m_2, y_train_m_2, y_test_m_2 = train_test_split(x_m_cv_train, y, test_size=0.2, random_state=1)\n",
    "\n",
    "svc_m_sent_2 = SVC(gamma='scale', random_state = 1)\n",
    "svc_m_sent_2.fit(x_train_m_2, y_train_m_2)"
   ]
  },
  {
   "cell_type": "code",
   "execution_count": 103,
   "metadata": {
    "scrolled": true
   },
   "outputs": [
    {
     "name": "stdout",
     "output_type": "stream",
     "text": [
      "              precision    recall  f1-score   support\n",
      "\n",
      "    negative       0.90      0.05      0.09       187\n",
      "     neutral       0.85      1.00      0.92      2156\n",
      "    positive       0.92      0.35      0.51       299\n",
      "\n",
      "    accuracy                           0.86      2642\n",
      "   macro avg       0.89      0.47      0.51      2642\n",
      "weighted avg       0.86      0.86      0.81      2642\n",
      "\n"
     ]
    }
   ],
   "source": [
    "pred_m_2 = svc_m_sent_2.predict(x_test_m_2)\n",
    "\n",
    "print(classification_report(y_test_m_2,pred_m_2))"
   ]
  },
  {
   "cell_type": "code",
   "execution_count": 136,
   "metadata": {},
   "outputs": [
    {
     "name": "stdout",
     "output_type": "stream",
     "text": [
      "xoşbəxt\n"
     ]
    },
    {
     "data": {
      "text/plain": [
       "'neutral'"
      ]
     },
     "execution_count": 136,
     "metadata": {},
     "output_type": "execute_result"
    }
   ],
   "source": [
    "inp = input()\n",
    "inp = [inp]\n",
    "inp_c = x_m_cv.transform(inp).toarray()\n",
    "input_predict = svc_m_sent_2.predict(inp_c)\n",
    "input_predict[0]"
   ]
  },
  {
   "cell_type": "code",
   "execution_count": 188,
   "metadata": {},
   "outputs": [],
   "source": [
    "merged.to_csv('new_merged_data.csv', encoding='utf8')"
   ]
  },
  {
   "cell_type": "code",
   "execution_count": 2,
   "metadata": {},
   "outputs": [],
   "source": [
    "merged = pd.read_excel(\"new_merged_data.xlsx\", encoding='utf-8')"
   ]
  },
  {
   "cell_type": "code",
   "execution_count": 3,
   "metadata": {},
   "outputs": [],
   "source": [
    "from collections import Counter\n",
    "\n",
    "neu = Counter(merged.Sentiment)"
   ]
  },
  {
   "cell_type": "code",
   "execution_count": 4,
   "metadata": {},
   "outputs": [
    {
     "data": {
      "text/plain": [
       "Counter({'negative': 1117, 'positive': 1806, 'neutral': 10286})"
      ]
     },
     "execution_count": 4,
     "metadata": {},
     "output_type": "execute_result"
    }
   ],
   "source": [
    "neu"
   ]
  },
  {
   "cell_type": "code",
   "execution_count": 189,
   "metadata": {},
   "outputs": [
    {
     "data": {
      "text/html": [
       "<div>\n",
       "<style scoped>\n",
       "    .dataframe tbody tr th:only-of-type {\n",
       "        vertical-align: middle;\n",
       "    }\n",
       "\n",
       "    .dataframe tbody tr th {\n",
       "        vertical-align: top;\n",
       "    }\n",
       "\n",
       "    .dataframe thead th {\n",
       "        text-align: right;\n",
       "    }\n",
       "</style>\n",
       "<table border=\"1\" class=\"dataframe\">\n",
       "  <thead>\n",
       "    <tr style=\"text-align: right;\">\n",
       "      <th></th>\n",
       "      <th>Text</th>\n",
       "      <th>Sentiment</th>\n",
       "    </tr>\n",
       "  </thead>\n",
       "  <tbody>\n",
       "    <tr>\n",
       "      <th>0</th>\n",
       "      <td>Yo biz qoymuşuğğ bunu. İnanmıram vererler lox ...</td>\n",
       "      <td>neutral</td>\n",
       "    </tr>\n",
       "    <tr>\n",
       "      <th>1</th>\n",
       "      <td>Leo Messi'nin mükəmməl cərimə zərbəsinin Camp ...</td>\n",
       "      <td>neutral</td>\n",
       "    </tr>\n",
       "    <tr>\n",
       "      <th>2</th>\n",
       "      <td>babat soxariq burdan bu qiymete bu yasda</td>\n",
       "      <td>neutral</td>\n",
       "    </tr>\n",
       "    <tr>\n",
       "      <th>3</th>\n",
       "      <td>Qardaşımın məktəbdə yaşadığı 1 günü mənim 1 sm...</td>\n",
       "      <td>positive</td>\n",
       "    </tr>\n",
       "    <tr>\n",
       "      <th>4</th>\n",
       "      <td>Axirincini gozel dedin)</td>\n",
       "      <td>positive</td>\n",
       "    </tr>\n",
       "  </tbody>\n",
       "</table>\n",
       "</div>"
      ],
      "text/plain": [
       "                                                Text Sentiment\n",
       "0  Yo biz qoymuşuğğ bunu. İnanmıram vererler lox ...   neutral\n",
       "1  Leo Messi'nin mükəmməl cərimə zərbəsinin Camp ...   neutral\n",
       "2           babat soxariq burdan bu qiymete bu yasda   neutral\n",
       "3  Qardaşımın məktəbdə yaşadığı 1 günü mənim 1 sm...  positive\n",
       "4                            Axirincini gozel dedin)  positive"
      ]
     },
     "execution_count": 189,
     "metadata": {},
     "output_type": "execute_result"
    }
   ],
   "source": [
    "merged.head()"
   ]
  },
  {
   "cell_type": "code",
   "execution_count": 170,
   "metadata": {},
   "outputs": [],
   "source": [
    "x = merged.Text\n",
    "y = merged.Sentiment"
   ]
  },
  {
   "cell_type": "code",
   "execution_count": null,
   "metadata": {},
   "outputs": [],
   "source": [
    "x_m_cv_2 = CountVectorizer()\n",
    "x_m_cv_train = x_m_cv_2.fit_transform(x.values.astype('U'))"
   ]
  },
  {
   "cell_type": "code",
   "execution_count": null,
   "metadata": {},
   "outputs": [],
   "source": [
    "x_train_m_2, x_test_m_2, y_train_m_2, y_test_m_2 = train_test_split(x_m_cv_train, y, test_size=0.2, random_state=1)\n",
    "\n",
    "svc_m_sent_2 = SVC(gamma='scale', random_state = 1)\n",
    "svc_m_sent_2.fit(x_train_m_2, y_train_m_2)\n",
    "x_train_m_2, x_test_m_2, y_train_m_2, y_test_m_2 = train_test_split(x_m_cv_train, y, test_size=0.2, random_state=1)\n",
    "\n",
    "pred_m_2 = svc_m_sent_2.predict(x_test_m_2)"
   ]
  },
  {
   "cell_type": "code",
   "execution_count": null,
   "metadata": {},
   "outputs": [],
   "source": []
  },
  {
   "cell_type": "code",
   "execution_count": null,
   "metadata": {},
   "outputs": [],
   "source": []
  },
  {
   "cell_type": "markdown",
   "metadata": {},
   "source": [
    "## Checking manually labelled data and predicting new sentiments"
   ]
  },
  {
   "cell_type": "code",
   "execution_count": 5,
   "metadata": {},
   "outputs": [],
   "source": [
    "merged_2 = pd.read_excel(\"new_merged_data_2.xlsx\", encoding='utf-8')"
   ]
  },
  {
   "cell_type": "code",
   "execution_count": 13,
   "metadata": {},
   "outputs": [],
   "source": [
    "x_m2_train = merged.Text.iloc[:2001]\n",
    "y_m2_train = merged.Sentiment[:2001]\n",
    "x_m2_test = merged.Text[2001:]\n",
    "y_m2_test = merged.Sentiment[2001:]"
   ]
  },
  {
   "cell_type": "code",
   "execution_count": 9,
   "metadata": {},
   "outputs": [
    {
     "data": {
      "text/plain": [
       "0        Yo biz qoymuşuğğ bunu. İnanmıram vererler lox...\n",
       "1       Leo Messi'nin mükəmməl cərimə zərbəsinin Camp ...\n",
       "2                babat soxariq burdan bu qiymete bu yasda\n",
       "3       Qardaşımın məktəbdə yaşadığı günü mənim smestr...\n",
       "4                                  Axirincini gozel dedin\n",
       "                              ...                        \n",
       "1996    Mənə dedi ki, Toğrulu mən öldürmüşəm yaşlı uşa...\n",
       "1997    Səyyad Əlizadə mənə sevgidən yazıb Nüşabədən m...\n",
       "1998                         Ay yemə. Bir o qaldı zatən. \n",
       "1999               Qiblə bizim ürəyimizdədi əlhəmdulillah\n",
       "2000           Bu post yadımdadı. Zaman su kimi keçir zad\n",
       "Name: Text, Length: 2001, dtype: object"
      ]
     },
     "execution_count": 9,
     "metadata": {},
     "output_type": "execute_result"
    }
   ],
   "source": [
    "x_m2_train"
   ]
  },
  {
   "cell_type": "code",
   "execution_count": 14,
   "metadata": {},
   "outputs": [],
   "source": [
    "x_m2_cv= CountVectorizer()\n",
    "x_m2_cv_train = x_m2_cv.fit_transform(x_m2_train.values.astype('U'))\n",
    "x_m2_cv_test = x_m2_cv.transform(x_m2_test.values.astype('U')).toarray()"
   ]
  },
  {
   "cell_type": "code",
   "execution_count": 15,
   "metadata": {},
   "outputs": [],
   "source": [
    "svc_m_sent_2 = SVC()\n",
    "svc_m_sent_2.fit(x_m2_cv_train, y_m2_train)"
   ]
  },
  {
   "cell_type": "code",
   "execution_count": 16,
   "metadata": {},
   "outputs": [],
   "source": [
    "pred_m2_2 = svc_m_sent_2.predict(x_m2_cv_test)"
   ]
  },
  {
   "cell_type": "code",
   "execution_count": 17,
   "metadata": {},
   "outputs": [
    {
     "name": "stdout",
     "output_type": "stream",
     "text": [
      "              precision    recall  f1-score   support\n",
      "\n",
      "    negative       0.10      0.15      0.12       491\n",
      "     neutral       0.87      0.90      0.88      9454\n",
      "    positive       0.41      0.21      0.28      1263\n",
      "\n",
      "    accuracy                           0.79     11208\n",
      "   macro avg       0.46      0.42      0.43     11208\n",
      "weighted avg       0.78      0.79      0.78     11208\n",
      "\n"
     ]
    }
   ],
   "source": [
    "print(classification_report(y_m2_test,pred_m2_2))"
   ]
  },
  {
   "cell_type": "code",
   "execution_count": 18,
   "metadata": {},
   "outputs": [
    {
     "name": "stderr",
     "output_type": "stream",
     "text": [
      "c:\\users\\hp\\appdata\\local\\programs\\python\\python38\\lib\\site-packages\\pandas\\core\\indexing.py:671: SettingWithCopyWarning: \n",
      "A value is trying to be set on a copy of a slice from a DataFrame\n",
      "\n",
      "See the caveats in the documentation: https://pandas.pydata.org/pandas-docs/stable/user_guide/indexing.html#returning-a-view-versus-a-copy\n",
      "  self._setitem_with_indexer(indexer, value)\n"
     ]
    }
   ],
   "source": [
    "merged_2.Sentiment.iloc[2001:] = pred_m2_2"
   ]
  },
  {
   "cell_type": "code",
   "execution_count": 21,
   "metadata": {},
   "outputs": [],
   "source": [
    "from collections import Counter\n",
    "\n",
    "neu = Counter(merged_2.Sentiment)"
   ]
  },
  {
   "cell_type": "code",
   "execution_count": 22,
   "metadata": {},
   "outputs": [
    {
     "data": {
      "text/plain": [
       "Counter({'negative': 1386, 'positive': 1188, 'neutral': 10635})"
      ]
     },
     "execution_count": 22,
     "metadata": {},
     "output_type": "execute_result"
    }
   ],
   "source": [
    "neu"
   ]
  },
  {
   "cell_type": "code",
   "execution_count": 24,
   "metadata": {},
   "outputs": [
    {
     "data": {
      "text/html": [
       "<div>\n",
       "<style scoped>\n",
       "    .dataframe tbody tr th:only-of-type {\n",
       "        vertical-align: middle;\n",
       "    }\n",
       "\n",
       "    .dataframe tbody tr th {\n",
       "        vertical-align: top;\n",
       "    }\n",
       "\n",
       "    .dataframe thead th {\n",
       "        text-align: right;\n",
       "    }\n",
       "</style>\n",
       "<table border=\"1\" class=\"dataframe\">\n",
       "  <thead>\n",
       "    <tr style=\"text-align: right;\">\n",
       "      <th></th>\n",
       "      <th>Unnamed: 0</th>\n",
       "      <th>Text</th>\n",
       "      <th>Sentiment</th>\n",
       "    </tr>\n",
       "  </thead>\n",
       "  <tbody>\n",
       "    <tr>\n",
       "      <th>0</th>\n",
       "      <td>0</td>\n",
       "      <td>Yo biz qoymuşuğğ bunu. İnanmıram vererler lox...</td>\n",
       "      <td>negative</td>\n",
       "    </tr>\n",
       "    <tr>\n",
       "      <th>1</th>\n",
       "      <td>1</td>\n",
       "      <td>Leo Messi'nin mükəmməl cərimə zərbəsinin Camp ...</td>\n",
       "      <td>positive</td>\n",
       "    </tr>\n",
       "    <tr>\n",
       "      <th>2</th>\n",
       "      <td>2</td>\n",
       "      <td>babat soxariq burdan bu qiymete bu yasda</td>\n",
       "      <td>positive</td>\n",
       "    </tr>\n",
       "    <tr>\n",
       "      <th>3</th>\n",
       "      <td>3</td>\n",
       "      <td>Qardaşımın məktəbdə yaşadığı günü mənim smestr...</td>\n",
       "      <td>positive</td>\n",
       "    </tr>\n",
       "    <tr>\n",
       "      <th>4</th>\n",
       "      <td>4</td>\n",
       "      <td>Axirincini gozel dedin</td>\n",
       "      <td>positive</td>\n",
       "    </tr>\n",
       "    <tr>\n",
       "      <th>...</th>\n",
       "      <td>...</td>\n",
       "      <td>...</td>\n",
       "      <td>...</td>\n",
       "    </tr>\n",
       "    <tr>\n",
       "      <th>13204</th>\n",
       "      <td>13204</td>\n",
       "      <td>Bakıda autizm sindromlu insanların işləyəcəyi...</td>\n",
       "      <td>negative</td>\n",
       "    </tr>\n",
       "    <tr>\n",
       "      <th>13205</th>\n",
       "      <td>13205</td>\n",
       "      <td>Olar</td>\n",
       "      <td>neutral</td>\n",
       "    </tr>\n",
       "    <tr>\n",
       "      <th>13206</th>\n",
       "      <td>13206</td>\n",
       "      <td>Hamı deyir olduğum kimiyəm. Bəs bu qədər artis...</td>\n",
       "      <td>neutral</td>\n",
       "    </tr>\n",
       "    <tr>\n",
       "      <th>13207</th>\n",
       "      <td>13207</td>\n",
       "      <td>Həyata qarşl duruşum</td>\n",
       "      <td>neutral</td>\n",
       "    </tr>\n",
       "    <tr>\n",
       "      <th>13208</th>\n",
       "      <td>13208</td>\n",
       "      <td>Nicat səni ilmə ilmə eliyərəm,üstünnən tankna...</td>\n",
       "      <td>neutral</td>\n",
       "    </tr>\n",
       "  </tbody>\n",
       "</table>\n",
       "<p>13209 rows × 3 columns</p>\n",
       "</div>"
      ],
      "text/plain": [
       "       Unnamed: 0                                               Text Sentiment\n",
       "0               0   Yo biz qoymuşuğğ bunu. İnanmıram vererler lox...  negative\n",
       "1               1  Leo Messi'nin mükəmməl cərimə zərbəsinin Camp ...  positive\n",
       "2               2           babat soxariq burdan bu qiymete bu yasda  positive\n",
       "3               3  Qardaşımın məktəbdə yaşadığı günü mənim smestr...  positive\n",
       "4               4                             Axirincini gozel dedin  positive\n",
       "...           ...                                                ...       ...\n",
       "13204       13204   Bakıda autizm sindromlu insanların işləyəcəyi...  negative\n",
       "13205       13205                                               Olar   neutral\n",
       "13206       13206  Hamı deyir olduğum kimiyəm. Bəs bu qədər artis...   neutral\n",
       "13207       13207                               Həyata qarşl duruşum   neutral\n",
       "13208       13208   Nicat səni ilmə ilmə eliyərəm,üstünnən tankna...   neutral\n",
       "\n",
       "[13209 rows x 3 columns]"
      ]
     },
     "execution_count": 24,
     "metadata": {},
     "output_type": "execute_result"
    }
   ],
   "source": [
    "merged_2"
   ]
  },
  {
   "cell_type": "code",
   "execution_count": 25,
   "metadata": {},
   "outputs": [],
   "source": [
    "merged_2.to_csv('new_merged_data_2.csv', encoding='utf8')"
   ]
  },
  {
   "cell_type": "code",
   "execution_count": 36,
   "metadata": {},
   "outputs": [
    {
     "name": "stdout",
     "output_type": "stream",
     "text": [
      "Ana\n"
     ]
    },
    {
     "data": {
      "text/plain": [
       "'neutral'"
      ]
     },
     "execution_count": 36,
     "metadata": {},
     "output_type": "execute_result"
    }
   ],
   "source": [
    "inp = input()\n",
    "# inp = 'zəhləm'\n",
    "inp = [inp]\n",
    "inp_c = x_m2_cv.transform(inp)\n",
    "input_predict = svc_m_sent_2.predict(inp_c)\n",
    "input_predict[0]"
   ]
  },
  {
   "cell_type": "code",
   "execution_count": 57,
   "metadata": {},
   "outputs": [
    {
     "name": "stderr",
     "output_type": "stream",
     "text": [
      "c:\\users\\hp\\appdata\\local\\programs\\python\\python38\\lib\\site-packages\\pandas\\core\\indexing.py:671: SettingWithCopyWarning: \n",
      "A value is trying to be set on a copy of a slice from a DataFrame\n",
      "\n",
      "See the caveats in the documentation: https://pandas.pydata.org/pandas-docs/stable/user_guide/indexing.html#returning-a-view-versus-a-copy\n",
      "  self._setitem_with_indexer(indexer, value)\n"
     ]
    }
   ],
   "source": [
    "merged_3.Sentiment.iloc[2001:] = pred_mlp"
   ]
  },
  {
   "cell_type": "code",
   "execution_count": 58,
   "metadata": {},
   "outputs": [],
   "source": [
    "merged_3.to_csv('new_merged_data_2.csv', encoding='utf8')"
   ]
  },
  {
   "cell_type": "code",
   "execution_count": null,
   "metadata": {},
   "outputs": [],
   "source": []
  },
  {
   "cell_type": "code",
   "execution_count": null,
   "metadata": {},
   "outputs": [],
   "source": []
  },
  {
   "cell_type": "code",
   "execution_count": 2,
   "metadata": {},
   "outputs": [],
   "source": [
    "merged_3 = pd.read_csv(\"new_merged_data_2.csv\", encoding='utf-8')"
   ]
  },
  {
   "cell_type": "code",
   "execution_count": 3,
   "metadata": {},
   "outputs": [],
   "source": [
    "x_3 = merged_3.Text\n",
    "y_3 = merged_3.Sentiment"
   ]
  },
  {
   "cell_type": "code",
   "execution_count": 4,
   "metadata": {},
   "outputs": [],
   "source": [
    "x_m3_cv= CountVectorizer()\n",
    "x_m3_cv_train = x_m3_cv.fit_transform(x_3.values.astype('U'))\n",
    "x_m3_cv_test = x_m3_cv.transform(y_3.values.astype('U')).toarray()"
   ]
  },
  {
   "cell_type": "code",
   "execution_count": 62,
   "metadata": {},
   "outputs": [],
   "source": [
    "x_train_m3, x_test_m3, y_train_m3, y_test_m3 = train_test_split(x_m3_cv_train, y_3, test_size=0.2, random_state=1)\n"
   ]
  },
  {
   "cell_type": "code",
   "execution_count": 63,
   "metadata": {},
   "outputs": [
    {
     "data": {
      "text/plain": [
       "MLPClassifier(activation='relu', alpha=0.001, batch_size='auto', beta_1=0.9,\n",
       "              beta_2=0.999, early_stopping=False, epsilon=1e-08,\n",
       "              hidden_layer_sizes=(100, 100, 100), learning_rate='constant',\n",
       "              learning_rate_init=0.001, max_fun=15000, max_iter=200,\n",
       "              momentum=0.9, n_iter_no_change=10, nesterovs_momentum=True,\n",
       "              power_t=0.5, random_state=1, shuffle=True, solver='adam',\n",
       "              tol=0.0001, validation_fraction=0.1, verbose=False,\n",
       "              warm_start=False)"
      ]
     },
     "execution_count": 63,
     "metadata": {},
     "output_type": "execute_result"
    }
   ],
   "source": [
    "mlp = MLPClassifier(max_iter=200, alpha = 0.001, random_state=1, hidden_layer_sizes=(100,100,100))\n",
    "\n",
    "mlp.fit(x_train_m3, y_train_m3)\n"
   ]
  },
  {
   "cell_type": "code",
   "execution_count": 64,
   "metadata": {},
   "outputs": [],
   "source": [
    "pred_mlp = mlp.predict(x_test_m3)"
   ]
  },
  {
   "cell_type": "code",
   "execution_count": 65,
   "metadata": {},
   "outputs": [
    {
     "name": "stdout",
     "output_type": "stream",
     "text": [
      "              precision    recall  f1-score   support\n",
      "\n",
      "    negative       0.85      0.90      0.88      1018\n",
      "     neutral       0.89      0.89      0.89      1141\n",
      "    positive       0.92      0.78      0.84       483\n",
      "\n",
      "    accuracy                           0.88      2642\n",
      "   macro avg       0.89      0.86      0.87      2642\n",
      "weighted avg       0.88      0.88      0.88      2642\n",
      "\n"
     ]
    }
   ],
   "source": [
    "print(classification_report(y_test_m3, pred_mlp))"
   ]
  },
  {
   "cell_type": "code",
   "execution_count": 66,
   "metadata": {},
   "outputs": [],
   "source": [
    "mlp_counter = Counter(merged_3.Sentiment)"
   ]
  },
  {
   "cell_type": "code",
   "execution_count": 67,
   "metadata": {},
   "outputs": [
    {
     "data": {
      "text/plain": [
       "Counter({'negative': 5050, 'positive': 2397, 'neutral': 5762})"
      ]
     },
     "execution_count": 67,
     "metadata": {},
     "output_type": "execute_result"
    }
   ],
   "source": [
    "mlp_counter"
   ]
  },
  {
   "cell_type": "code",
   "execution_count": 89,
   "metadata": {},
   "outputs": [
    {
     "name": "stdout",
     "output_type": "stream",
     "text": [
      "ADA\n"
     ]
    },
    {
     "data": {
      "text/plain": [
       "'negative'"
      ]
     },
     "execution_count": 89,
     "metadata": {},
     "output_type": "execute_result"
    }
   ],
   "source": [
    "inp = input()\n",
    "# inp = 'zəhləm'\n",
    "inp = [inp]\n",
    "inp_c = x_m3_cv.transform(inp)\n",
    "input_predict = mlp.predict(inp_c)\n",
    "input_predict[0]"
   ]
  },
  {
   "cell_type": "code",
   "execution_count": 92,
   "metadata": {},
   "outputs": [
    {
     "data": {
      "text/plain": [
       "['mlp.pickle']"
      ]
     },
     "execution_count": 92,
     "metadata": {},
     "output_type": "execute_result"
    }
   ],
   "source": [
    "joblib.dump(mlp, \"mlp.pickle\")"
   ]
  },
  {
   "cell_type": "code",
   "execution_count": 93,
   "metadata": {},
   "outputs": [
    {
     "data": {
      "text/plain": [
       "['cv.pickle']"
      ]
     },
     "execution_count": 93,
     "metadata": {},
     "output_type": "execute_result"
    }
   ],
   "source": [
    "joblib.dump(x_m3_cv, \"cv.pickle\")"
   ]
  },
  {
   "cell_type": "code",
   "execution_count": 5,
   "metadata": {},
   "outputs": [],
   "source": [
    "mlp = joblib.load(\"mlp.pickle\")"
   ]
  },
  {
   "cell_type": "code",
   "execution_count": 6,
   "metadata": {},
   "outputs": [],
   "source": [
    "x_m3_cv = joblib.load(\"cv.pickle\")"
   ]
  },
  {
   "cell_type": "code",
   "execution_count": 12,
   "metadata": {},
   "outputs": [],
   "source": [
    "\n",
    "\n",
    "positive = Image.open('positive.png')\n",
    "negative = Image.open('negative.png')\n",
    "neutral = Image.open('neutral.png')"
   ]
  },
  {
   "cell_type": "code",
   "execution_count": 15,
   "metadata": {},
   "outputs": [],
   "source": [
    "def output(inp):\n",
    "    inp = [inp]\n",
    "    inp_c = x_m3_cv.transform(inp)\n",
    "    input_predict = mlp.predict(inp_c)\n",
    "    if (input_predict[0] == 'negative'):\n",
    "        return negative\n",
    "    elif (input_predict[0] == 'positive'):\n",
    "        return positive\n",
    "    elif (input_predict[0] == 'neutral'):\n",
    "        return neutral\n"
   ]
  },
  {
   "cell_type": "code",
   "execution_count": null,
   "metadata": {},
   "outputs": [],
   "source": [
    "inp = input()\n",
    "# inp = 'zəhləm'\n",
    "inp = [inp]\n",
    "inp_c = x_m3_cv.transform(inp)\n",
    "input_predict = mlp.predict(inp_c)\n",
    "input_predict[0]"
   ]
  },
  {
   "cell_type": "code",
   "execution_count": 19,
   "metadata": {},
   "outputs": [
    {
     "name": "stdout",
     "output_type": "stream",
     "text": [
      "yaxşı\n"
     ]
    },
    {
     "data": {
      "image/png": "[encoded data removed]",
      "text/plain": [
       "<PIL.PngImagePlugin.PngImageFile image mode=RGBA size=165x155 at 0x267AB1625E0>"
      ]
     },
     "execution_count": 19,
     "metadata": {},
     "output_type": "execute_result"
    }
   ],
   "source": [
    "inp = input()\n",
    "output(inp)"
   ]
  },
  {
   "cell_type": "markdown",
   "metadata": {},
   "source": [
    "## Cleaning of data"
   ]
  },
  {
   "cell_type": "code",
   "execution_count": null,
   "metadata": {},
   "outputs": [],
   "source": [
    "import re\n",
    "import pandas as pd\n",
    "from openpyxl import Workbook\n",
    "import csv\n",
    "from csv import reader"
   ]
  },
  {
   "cell_type": "code",
   "execution_count": null,
   "metadata": {},
   "outputs": [],
   "source": [
    "data = pd.read_csv('merged_data.csv', encoding='utf8')\n",
    "\n",
    "data_new = []\n",
    "emoji_pattern = re.compile(\"[\"\n",
    "                           u\"\\U0001F600-\\U0001F64F\"  # emoticons\n",
    "                           u\"\\U0001F300-\\U0001FFFF\"  # symbols & pictographs\n",
    "                           u\"\\U0001F680-\\U0001F6FF\"  # transport & map symbols\n",
    "                           u\"\\U0001F1E0-\\U0001F1FF\"  # flags (iOS)\n",
    "                           u\"\\U00002702-\\U000027B0\"\n",
    "                           u\"\\U000024C2-\\U0001F251\"\n",
    "                           \"]+\", flags=re.UNICODE)\n",
    "\n",
    "for row in data.Text:\n",
    "    row = re.sub(r'[@]\\w+', '', row)\n",
    "    row = re.sub(r'\\u200d', '', row)\n",
    "    row = re.sub(r'RT :', '', row)\n",
    "    row = re.sub(r'http[s]?:\\/\\/.*[\\r\\n]*', '', row)\n",
    "    row = emoji_pattern.sub(r'', row)\n",
    "    row = re.sub(r'\\&amp;', ' ', row)\n",
    "    row = re.sub(r'\\&gt;', ' ', row)\n",
    "    row = re.sub(r'&lt;[3]+', ' ', row)\n",
    "    row = re.sub(r'[+\\-”“\"#@()]+', '', row)\n",
    "    row = re.sub(r'\\.', '. ', row)\n",
    "    row = re.sub(r':[Dd]', ' :D', row)\n",
    "    row = re.sub(r'[0-9]+[ ]', '', row)\n",
    "    row = re.sub(r'FOTO|VİDEO', '', row)\n",
    "    row = re.sub(r'[ ]+', ' ', row)\n",
    "    data_new.append(row)\n",
    "\n",
    "data_new = pd.DataFrame(data=data_new)\n",
    "\n",
    "data.Text = data_new\n",
    "\n",
    "data = data.reset_index(drop=True)\n",
    "data = data.drop(data.columns[data.columns.str.contains('unnamed',case = False)], axis=1)\n",
    "\n",
    "data.to_csv(\"new_merged_data_2.csv\", encoding='utf8')"
   ]
  },
  {
   "cell_type": "markdown",
   "metadata": {},
   "source": [
    "## IMDB Movie Reviews"
   ]
  },
  {
   "cell_type": "code",
   "execution_count": null,
   "metadata": {},
   "outputs": [],
   "source": [
    "dataset = pd.read_excel(\"dataset.xlsx\",  encoding='utf-8')\n",
    "\n",
    "x = dataset.text\n",
    "y = dataset.label\n",
    "\n",
    "cv= CountVectorizer()\n",
    "cv_train = cv.fit_transform(x.values.astype('U'))\n",
    "cv_test = cv.transform(y.values.astype('U')).toarray()\n",
    "\n",
    "x_train, x_test, y_train, y_test = train_test_split(cv_train, y, test_size=0.2, random_state=1)"
   ]
  },
  {
   "cell_type": "code",
   "execution_count": null,
   "metadata": {},
   "outputs": [],
   "source": [
    "mlp_rashad = MLPClassifier(max_iter=100, alpha = 0.001, random_state=1, hidden_layer_sizes=(30,30,30))\n",
    "\n",
    "mlp_rashad.fit(x_train, y_train)"
   ]
  },
  {
   "cell_type": "code",
   "execution_count": null,
   "metadata": {},
   "outputs": [],
   "source": [
    "pred_mlp = mlp_rashad.predict(x_test)"
   ]
  },
  {
   "cell_type": "code",
   "execution_count": null,
   "metadata": {},
   "outputs": [],
   "source": [
    "print(classification_report(y_test, pred_mlp))"
   ]
  },
  {
   "cell_type": "code",
   "execution_count": null,
   "metadata": {},
   "outputs": [],
   "source": [
    "inp = input()\n",
    "# inp = 'zəhləm'\n",
    "inp = [inp]\n",
    "inp_c = cv.transform(inp)\n",
    "input_predict = mlp_rashad.predict(inp_c)\n",
    "input_predict[0]"
   ]
  },
  {
   "cell_type": "code",
   "execution_count": null,
   "metadata": {},
   "outputs": [],
   "source": [
    "dataset.label.value_counts().plot(kind='pie', autopct='%1.0f%%')"
   ]
  },
  {
   "cell_type": "markdown",
   "metadata": {},
   "source": [
    "## Statistics"
   ]
  },
  {
   "cell_type": "code",
   "execution_count": null,
   "metadata": {},
   "outputs": [],
   "source": [
    "merged_3 = pd.read_excel(r'C:\\Users\\ASUS\\Desktop\\new_merged_data 2.xlsx', encoding='utf-8')\n",
    "\n",
    "x_3 = merged_3.Text\n",
    "y_3 = merged_3.Sentiment"
   ]
  },
  {
   "cell_type": "code",
   "execution_count": null,
   "metadata": {},
   "outputs": [],
   "source": [
    "stop_words = [\"bu\", \"bir\", \"də\",\"da\",\"ki\",\"və\",\"nə\",\"mən\",\"kim\",\"bunu\",\"hər\", \n",
    "              \"üçün\",\"ya\",\"foto\",\"siz\",\"özünü\",\"VİDEO\",\"Video\",\"kimi\",\"biz\",\"Adam\",\"niyə\",\n",
    "              \"adam\",\"video\",\"deo\",\"vi\",\"ilə\",\"ən\",\"qədər\",\"elə\",\"məni\",\"sən\",\"de\",\"ve\",\"mənə\"]\n",
    "x_m3_cv= CountVectorizer(stop_words = stop_words)\n",
    "x_m3_cv_train = x_m3_cv.fit_transform(x_3.values.astype('U'))\n",
    "x_m3_cv_test = x_m3_cv.transform(y_3.values.astype('U')).toarray()"
   ]
  },
  {
   "cell_type": "code",
   "execution_count": null,
   "metadata": {},
   "outputs": [],
   "source": [
    "x_train_m3, x_test_m3, y_train_m3, y_test_m3 = train_test_split(x_m3_cv_train, y_3, test_size=0.2, random_state=1)\n"
   ]
  },
  {
   "cell_type": "code",
   "execution_count": null,
   "metadata": {},
   "outputs": [],
   "source": [
    "len(x_m3_cv.get_feature_names())"
   ]
  },
  {
   "cell_type": "code",
   "execution_count": null,
   "metadata": {},
   "outputs": [],
   "source": [
    "matrix = x_m3_cv.fit_transform(x_3.values.astype('U'))\n",
    "freqs = zip(x_m3_cv.get_feature_names(), matrix.sum(axis=0).tolist()[0])    \n",
    "# sort from largest to smallest\n",
    "print (sorted(freqs, key=lambda x: -x[1]))"
   ]
  },
  {
   "cell_type": "code",
   "execution_count": null,
   "metadata": {},
   "outputs": [],
   "source": [
    "neg_doc_matrix = x_m3_cv.transform((merged_3[merged_3.Sentiment == \"negative\"].Text).values.astype('U'))\n",
    "pos_doc_matrix = x_m3_cv.transform((merged_3[merged_3.Sentiment == 'positive'].Text).values.astype('U'))\n",
    "neut_doc_matrix = x_m3_cv.transform((merged_3[merged_3.Sentiment == 'neutral'].Text).values.astype('U'))\n",
    "neg_tf = np.sum(neg_doc_matrix,axis=0)\n",
    "pos_tf = np.sum(pos_doc_matrix,axis=0)\n",
    "neut_tf = np.sum(neut_doc_matrix,axis=0)\n",
    "neg = np.squeeze(np.asarray(neg_tf))\n",
    "pos = np.squeeze(np.asarray(pos_tf))\n",
    "neut = np.squeeze(np.asarray(neut_tf))\n",
    "term_freq_df = pd.DataFrame([neg,pos,neut],columns=x_m3_cv.get_feature_names()).transpose()"
   ]
  },
  {
   "cell_type": "code",
   "execution_count": null,
   "metadata": {},
   "outputs": [],
   "source": [
    "term_freq_df.columns = ['negative', 'positive','neutral']\n",
    "term_freq_df['total'] = term_freq_df['negative'] + term_freq_df['positive']+term_freq_df['neutral']\n",
    "term_freq_df.sort_values(by='total', ascending=False).iloc[:20]"
   ]
  },
  {
   "cell_type": "code",
   "execution_count": null,
   "metadata": {},
   "outputs": [],
   "source": [
    "neg_tweets = merged_3[merged_3.Sentiment == 'negative']\n",
    "neg_string = []\n",
    "for t in neg_tweets.Text:\n",
    "    neg_string.append(t)\n",
    "neg_string = pd.Series(neg_string).str.cat(sep=' ')"
   ]
  },
  {
   "cell_type": "code",
   "execution_count": null,
   "metadata": {},
   "outputs": [],
   "source": [
    "from PIL import Image\n",
    "mask = np.array(Image.open(\"/Users/ASUS/Desktop/AZE.png\"))"
   ]
  },
  {
   "cell_type": "code",
   "execution_count": null,
   "metadata": {},
   "outputs": [],
   "source": [
    "import os\n",
    "import matplotlib.pyplot as plt\n",
    "from wordcloud import WordCloud,ImageColorGenerator\n",
    "wordcloud_neg = WordCloud(background_color=\"white\",font_path='/Users/ASUS/Desktop/9991.ttf',width=1200, height=600,max_font_size=200, stopwords= stop_words,mask=mask).generate(neg_string)\n",
    "plt.figure(figsize=(12,10))\n",
    "plt.imshow(wordcloud_neg, interpolation=\"bilinear\")\n",
    "plt.axis(\"off\")\n",
    "plt.show()\n"
   ]
  },
  {
   "cell_type": "code",
   "execution_count": null,
   "metadata": {},
   "outputs": [],
   "source": [
    "image_colors = ImageColorGenerator(mask)\n",
    "plt.figure(figsize=[10,10])\n",
    "plt.imshow(wordcloud_neg.recolor(color_func=image_colors), interpolation=\"bilinear\")\n",
    "plt.axis(\"off\")"
   ]
  },
  {
   "cell_type": "code",
   "execution_count": null,
   "metadata": {},
   "outputs": [],
   "source": [
    "pos_tweets = merged_3[merged_3.Sentiment == 'positive']\n",
    "pos_string = []\n",
    "for t in pos_tweets.Text:\n",
    "    pos_string.append(t)\n",
    "pos_string = pd.Series(pos_string).str.cat(sep=' ')"
   ]
  },
  {
   "cell_type": "code",
   "execution_count": null,
   "metadata": {},
   "outputs": [],
   "source": [
    "wordcloud_pos = WordCloud(background_color=\"white\",font_path='/Users/ASUS/Desktop/9991.ttf',width=1200, height=600,max_font_size=200,colormap='magma',stopwords= stop_words,mask=mask).generate(pos_string)\n",
    "plt.figure(figsize=(12,10))\n",
    "plt.imshow(wordcloud_pos, interpolation=\"bilinear\")\n",
    "plt.axis(\"off\")\n",
    "plt.show()"
   ]
  },
  {
   "cell_type": "code",
   "execution_count": null,
   "metadata": {},
   "outputs": [],
   "source": [
    "image_colors = ImageColorGenerator(mask)\n",
    "plt.figure(figsize=[10,10])\n",
    "plt.imshow(wordcloud_pos.recolor(color_func=image_colors), interpolation=\"bilinear\")\n",
    "plt.axis(\"off\")\n",
    "plt.savefig(\"/Users/ASUS/Desktop/flag.png\", format=\"png\")"
   ]
  },
  {
   "cell_type": "markdown",
   "metadata": {},
   "source": [
    "## Graphs"
   ]
  },
  {
   "cell_type": "code",
   "execution_count": 190,
   "metadata": {},
   "outputs": [],
   "source": [
    "import matplotlib.pyplot as plt "
   ]
  },
  {
   "cell_type": "code",
   "execution_count": 98,
   "metadata": {},
   "outputs": [],
   "source": [
    "language = new_data['Language.1']"
   ]
  },
  {
   "cell_type": "code",
   "execution_count": 101,
   "metadata": {},
   "outputs": [
    {
     "data": {
      "text/plain": [
       "<matplotlib.axes._subplots.AxesSubplot at 0x1b70a425b20>"
      ]
     },
     "execution_count": 101,
     "metadata": {},
     "output_type": "execute_result"
    },
    {
     "data": {
      "image/png": "[encoded data removed]",
      "text/plain": [
       "<Figure size 432x288 with 1 Axes>"
      ]
     },
     "metadata": {},
     "output_type": "display_data"
    }
   ],
   "source": [
    "new_data['Language.1'].value_counts().plot(kind='pie', autopct='%1.0f%%')"
   ]
  },
  {
   "cell_type": "code",
   "execution_count": 107,
   "metadata": {},
   "outputs": [
    {
     "data": {
      "text/plain": [
       "<matplotlib.axes._subplots.AxesSubplot at 0x1b70a4cfa30>"
      ]
     },
     "execution_count": 107,
     "metadata": {},
     "output_type": "execute_result"
    },
    {
     "data": {
      "image/png": "[encoded data removed]",
      "text/plain": [
       "<Figure size 432x288 with 1 Axes>"
      ]
     },
     "metadata": {},
     "output_type": "display_data"
    }
   ],
   "source": [
    "data_f['Sentiment'].value_counts().plot(kind='pie', autopct='%1.0f%%')"
   ]
  },
  {
   "cell_type": "code",
   "execution_count": 3,
   "metadata": {},
   "outputs": [
    {
     "data": {
      "text/plain": [
       "<matplotlib.axes._subplots.AxesSubplot at 0x20dc3ef7130>"
      ]
     },
     "execution_count": 3,
     "metadata": {},
     "output_type": "execute_result"
    },
    {
     "data": {
      "image/png": "[encoded data removed]",
      "text/plain": [
       "<Figure size 432x288 with 1 Axes>"
      ]
     },
     "metadata": {},
     "output_type": "display_data"
    }
   ],
   "source": [
    "merged_3.Sentiment.value_counts().plot(kind='pie', autopct='%1.0f%%')"
   ]
  },
  {
   "cell_type": "code",
   "execution_count": 109,
   "metadata": {},
   "outputs": [
    {
     "data": {
      "text/html": [
       "<div>\n",
       "<style scoped>\n",
       "    .dataframe tbody tr th:only-of-type {\n",
       "        vertical-align: middle;\n",
       "    }\n",
       "\n",
       "    .dataframe tbody tr th {\n",
       "        vertical-align: top;\n",
       "    }\n",
       "\n",
       "    .dataframe thead th {\n",
       "        text-align: right;\n",
       "    }\n",
       "</style>\n",
       "<table border=\"1\" class=\"dataframe\">\n",
       "  <thead>\n",
       "    <tr style=\"text-align: right;\">\n",
       "      <th></th>\n",
       "      <th>Full Text</th>\n",
       "      <th>Sentiment</th>\n",
       "      <th>Language.1</th>\n",
       "    </tr>\n",
       "  </thead>\n",
       "  <tbody>\n",
       "    <tr>\n",
       "      <th>0</th>\n",
       "      <td>RT @seyidov717: Çok konuşdum anlamadılar bende...</td>\n",
       "      <td>ne</td>\n",
       "      <td>t</td>\n",
       "    </tr>\n",
       "    <tr>\n",
       "      <th>1</th>\n",
       "      <td>@atayaliko @veliefendideat @istiklalAkarsu Val...</td>\n",
       "      <td>mu</td>\n",
       "      <td>t</td>\n",
       "    </tr>\n",
       "    <tr>\n",
       "      <th>2</th>\n",
       "      <td>Aaa gece gece Ali tweet attı noluyor acaba @at...</td>\n",
       "      <td>ne</td>\n",
       "      <td>t</td>\n",
       "    </tr>\n",
       "    <tr>\n",
       "      <th>3</th>\n",
       "      <td>Zamanı borç alalım biz gecelerden\\nDuyup yaşam...</td>\n",
       "      <td>ne</td>\n",
       "      <td>t</td>\n",
       "    </tr>\n",
       "    <tr>\n",
       "      <th>4</th>\n",
       "      <td>@gunnersamir11 @HandofHenry Yo biz qoymuşuğğ b...</td>\n",
       "      <td>ne</td>\n",
       "      <td>az</td>\n",
       "    </tr>\n",
       "  </tbody>\n",
       "</table>\n",
       "</div>"
      ],
      "text/plain": [
       "                                           Full Text Sentiment Language.1\n",
       "0  RT @seyidov717: Çok konuşdum anlamadılar bende...        ne          t\n",
       "1  @atayaliko @veliefendideat @istiklalAkarsu Val...        mu          t\n",
       "2  Aaa gece gece Ali tweet attı noluyor acaba @at...        ne          t\n",
       "3  Zamanı borç alalım biz gecelerden\\nDuyup yaşam...        ne          t\n",
       "4  @gunnersamir11 @HandofHenry Yo biz qoymuşuğğ b...        ne         az"
      ]
     },
     "execution_count": 109,
     "metadata": {},
     "output_type": "execute_result"
    }
   ],
   "source": [
    "new_data.head()"
   ]
  },
  {
   "cell_type": "code",
   "execution_count": 117,
   "metadata": {},
   "outputs": [
    {
     "data": {
      "text/plain": [
       "<matplotlib.axes._subplots.AxesSubplot at 0x1b70a4dc0d0>"
      ]
     },
     "execution_count": 117,
     "metadata": {},
     "output_type": "execute_result"
    },
    {
     "data": {
      "image/png": "[encoded data removed]",
      "text/plain": [
       "<Figure size 432x288 with 1 Axes>"
      ]
     },
     "metadata": {
      "needs_background": "light"
     },
     "output_type": "display_data"
    }
   ],
   "source": [
    "tweet_sentiment = new_data.groupby(['Language.1', 'Sentiment']).Sentiment.count().unstack()\n",
    "tweet_sentiment.plot(kind='bar')"
   ]
  },
  {
   "cell_type": "code",
   "execution_count": null,
   "metadata": {},
   "outputs": [],
   "source": []
  }
 ],
 "metadata": {
  "kernelspec": {
   "display_name": "Python 3",
   "language": "python",
   "name": "python3"
  },
  "language_info": {
   "codemirror_mode": {
    "name": "ipython",
    "version": 3
   },
   "file_extension": ".py",
   "mimetype": "text/x-python",
   "name": "python",
   "nbconvert_exporter": "python",
   "pygments_lexer": "ipython3",
   "version": "3.8.2"
  }
 },
 "nbformat": 4,
 "nbformat_minor": 4
}
